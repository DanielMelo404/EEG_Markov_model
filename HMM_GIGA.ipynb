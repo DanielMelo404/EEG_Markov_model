{
  "cells": [
    {
      "cell_type": "markdown",
      "metadata": {
        "id": "view-in-github",
        "colab_type": "text"
      },
      "source": [
        "<a href=\"https://colab.research.google.com/github/DanielMelo404/EEG_Markov_model/blob/main/HMM_GIGA.ipynb\" target=\"_parent\"><img src=\"https://colab.research.google.com/assets/colab-badge.svg\" alt=\"Open In Colab\"/></a>"
      ]
    },
    {
      "cell_type": "code",
      "execution_count": 1,
      "metadata": {
        "colab": {
          "base_uri": "https://localhost:8080/"
        },
        "id": "tSHFplBVO3So",
        "outputId": "933c89a6-f55a-42bf-de92-190e47e8273f"
      },
      "outputs": [
        {
          "output_type": "stream",
          "name": "stdout",
          "text": [
            "Looking in indexes: https://pypi.org/simple, https://us-python.pkg.dev/colab-wheels/public/simple/\n",
            "Collecting pyhhmm\n",
            "  Downloading pyhhmm-2.0.1.tar.gz (31 kB)\n",
            "Requirement already satisfied: numpy in /usr/local/lib/python3.8/dist-packages (from pyhhmm) (1.21.6)\n",
            "Requirement already satisfied: scipy in /usr/local/lib/python3.8/dist-packages (from pyhhmm) (1.7.3)\n",
            "Requirement already satisfied: scikit-learn in /usr/local/lib/python3.8/dist-packages (from pyhhmm) (1.0.2)\n",
            "Requirement already satisfied: prettytable in /usr/local/lib/python3.8/dist-packages (from pyhhmm) (3.5.0)\n",
            "Requirement already satisfied: seaborn in /usr/local/lib/python3.8/dist-packages (from pyhhmm) (0.11.2)\n",
            "Requirement already satisfied: wcwidth in /usr/local/lib/python3.8/dist-packages (from prettytable->pyhhmm) (0.2.5)\n",
            "Requirement already satisfied: threadpoolctl>=2.0.0 in /usr/local/lib/python3.8/dist-packages (from scikit-learn->pyhhmm) (3.1.0)\n",
            "Requirement already satisfied: joblib>=0.11 in /usr/local/lib/python3.8/dist-packages (from scikit-learn->pyhhmm) (1.2.0)\n",
            "Requirement already satisfied: pandas>=0.23 in /usr/local/lib/python3.8/dist-packages (from seaborn->pyhhmm) (1.3.5)\n",
            "Requirement already satisfied: matplotlib>=2.2 in /usr/local/lib/python3.8/dist-packages (from seaborn->pyhhmm) (3.2.2)\n",
            "Requirement already satisfied: python-dateutil>=2.1 in /usr/local/lib/python3.8/dist-packages (from matplotlib>=2.2->seaborn->pyhhmm) (2.8.2)\n",
            "Requirement already satisfied: pyparsing!=2.0.4,!=2.1.2,!=2.1.6,>=2.0.1 in /usr/local/lib/python3.8/dist-packages (from matplotlib>=2.2->seaborn->pyhhmm) (3.0.9)\n",
            "Requirement already satisfied: kiwisolver>=1.0.1 in /usr/local/lib/python3.8/dist-packages (from matplotlib>=2.2->seaborn->pyhhmm) (1.4.4)\n",
            "Requirement already satisfied: cycler>=0.10 in /usr/local/lib/python3.8/dist-packages (from matplotlib>=2.2->seaborn->pyhhmm) (0.11.0)\n",
            "Requirement already satisfied: pytz>=2017.3 in /usr/local/lib/python3.8/dist-packages (from pandas>=0.23->seaborn->pyhhmm) (2022.6)\n",
            "Requirement already satisfied: six>=1.5 in /usr/local/lib/python3.8/dist-packages (from python-dateutil>=2.1->matplotlib>=2.2->seaborn->pyhhmm) (1.15.0)\n",
            "Building wheels for collected packages: pyhhmm\n",
            "  Building wheel for pyhhmm (setup.py) ... \u001b[?25l\u001b[?25hdone\n",
            "  Created wheel for pyhhmm: filename=pyhhmm-2.0.1-py3-none-any.whl size=35505 sha256=e865ad2fd7adecd3d8120916a33e88bbd8a73cd4d7f7c9f174ca165b5c9f7a0a\n",
            "  Stored in directory: /root/.cache/pip/wheels/c9/18/07/4db05501458fe0f2267a2f9da0a62d811093ebad8baf06a4f4\n",
            "Successfully built pyhhmm\n",
            "Installing collected packages: pyhhmm\n",
            "Successfully installed pyhhmm-2.0.1\n"
          ]
        }
      ],
      "source": [
        "# !pip install hidden_markov\n",
        "!pip install pyhhmm"
      ]
    },
    {
      "cell_type": "code",
      "execution_count": 2,
      "metadata": {
        "id": "9_trS4Ej5dBz"
      },
      "outputs": [],
      "source": [
        "import itertools as it\n",
        "import scipy.spatial.distance as dis\n",
        "from scipy import signal\n",
        "import time \n",
        "from scipy import stats\n",
        "import numpy as np\n",
        "import matplotlib.pyplot as plt\n",
        "from scipy.io import loadmat\n",
        "from scipy.signal import resample\n",
        "from joblib import Parallel, delayed\n",
        "import pickle\n",
        "from sklearn.metrics import pairwise_distances"
      ]
    },
    {
      "cell_type": "code",
      "execution_count": null,
      "metadata": {
        "id": "eE8-ktHz6FyK"
      },
      "outputs": [],
      "source": [
        "%%capture\n",
        "!pip install -U git+https://github.com/UN-GCPDS/python-gcpds.databases.git\n",
        "!pip install -U git+https://github.com/UN-GCPDS/python-gcpds.utils.git\n",
        "\n",
        "import gcpds.databases as loaddb"
      ]
    },
    {
      "cell_type": "code",
      "execution_count": null,
      "metadata": {
        "id": "fiBQjYQ9ztW2"
      },
      "outputs": [],
      "source": [
        "from gcpds.utils import colab\n",
        "colab.mount()"
      ]
    },
    {
      "cell_type": "code",
      "execution_count": null,
      "metadata": {
        "id": "5Nl0Zn3E4vIx"
      },
      "outputs": [],
      "source": [
        "db = loaddb.GIGA_MI_ME()\n",
        "fs = db.metadata['sampling_rate']\n",
        "channels = db.metadata['channels']\n",
        "print(channels)\n",
        "print(db.metadata['classes'])\n",
        "print(db.metadata['montage'])\n",
        "print(fs)"
      ]
    },
    {
      "cell_type": "markdown",
      "source": [
        "Hacer la lista de sujetos para iterar sobre ella para armar los modelos de markov"
      ],
      "metadata": {
        "id": "OSeQjoiCHCY8"
      }
    },
    {
      "cell_type": "code",
      "source": [
        "import numpy as np\n",
        "X_ch10 = np.zeros((50,200,512*5))\n",
        "list_sbjs = []#Lista para guardar tuplas (sujeto, arreglo de trials)\n",
        "for i in range(50):\n",
        "    db.load_subject(i+1) \n",
        "    print(\"sbj\",i+1)\n",
        "    if( i+1 != 29):\n",
        "      run, class_ = db.get_data(classes=['left hand mi', 'right hand mi'])\n",
        "      run_aux = run[:,10,512*2:512*7]       #Solo se toman los ultimos 5 segundos porque son los que tienen la informacion para clusterizar\n",
        "      list_sbjs.append((i+1,run_aux[:,::10]))\n"
      ],
      "metadata": {
        "id": "AbNbYUhSQvsB"
      },
      "execution_count": null,
      "outputs": []
    },
    {
      "cell_type": "code",
      "execution_count": null,
      "metadata": {
        "id": "oQbWDQgN6zjS"
      },
      "outputs": [],
      "source": [
        "import pandas as pd\n",
        "import seaborn as sns\n",
        "sbj = 1\n",
        "db.load_subject(sbj) \n",
        "run, class_ = db.get_data(classes=['left hand mi', 'right hand mi'])\n",
        "run.shape, class_.shape"
      ]
    },
    {
      "cell_type": "code",
      "execution_count": null,
      "metadata": {
        "id": "CCesT-zAh2vd"
      },
      "outputs": [],
      "source": [
        "run_ = run[:,:,::10]\n",
        "run_.shape"
      ]
    },
    {
      "cell_type": "markdown",
      "metadata": {
        "id": "I2UVNnyu1OF4"
      },
      "source": [
        "### Hacer PCA para identificar clusters de sujetos (se debe correr por aparte, pues utiliza mucha RAM)\n"
      ]
    },
    {
      "cell_type": "code",
      "execution_count": null,
      "metadata": {
        "id": "GCfCtpH_iSYK"
      },
      "outputs": [],
      "source": [
        "for i in range(50):\n",
        "    db.load_subject(sbj) \n",
        "    run, class_ = db.get_data(classes=['left hand mi', 'right hand mi'])\n",
        "    run = run[:,:,::10]\n",
        "    run_ = np.concatenate((run_,run),axis = 1)\n",
        "    print(run_.shape)"
      ]
    },
    {
      "cell_type": "code",
      "execution_count": null,
      "metadata": {
        "id": "lajHuXvXkSgZ"
      },
      "outputs": [],
      "source": [
        "run__ = run_.reshape(200*3264,359)"
      ]
    },
    {
      "cell_type": "code",
      "execution_count": null,
      "metadata": {
        "id": "Uf_MtVuGmS5e"
      },
      "outputs": [],
      "source": [
        "from sklearn.preprocessing import StandardScaler\n",
        "std = StandardScaler()\n",
        "X_ = std.fit_transform(run__)\n",
        "X_.shape"
      ]
    },
    {
      "cell_type": "code",
      "execution_count": null,
      "metadata": {
        "id": "NMN3ZUzQkFqC"
      },
      "outputs": [],
      "source": [
        "import numpy as np\n",
        "from sklearn.decomposition import PCA\n",
        "X = run__\n",
        "pca = PCA(n_components=2)\n",
        "# pca.fit(X)\n",
        "PCA(n_components=2)\n",
        "X_new = pca.fit_transform(X_)\n",
        "X_new.shape\n",
        "plt.figure(figsize  = (50,50))\n",
        "plt.scatter(X_new[:,0],X_new[:,1])"
      ]
    },
    {
      "cell_type": "markdown",
      "source": [
        "#Ajustar HMMs"
      ],
      "metadata": {
        "id": "Dy1srrhRDq2H"
      }
    },
    {
      "cell_type": "code",
      "execution_count": null,
      "metadata": {
        "id": "Otl4U_n9958B"
      },
      "outputs": [],
      "source": [
        "from sklearn.preprocessing import MinMaxScaler\n",
        "\n",
        "def pretreatment(x):#Se estandariza la señal  de entrada \n",
        "  x= x.reshape(-1,1)\n",
        "  # x = x[::10]\n",
        "  minMax = MinMaxScaler()\n",
        "  x =minMax.fit_transform(x)\n",
        "  return x\n",
        "\n",
        "def quantize(x):#Discretizar a la señal en ns+1 cuantos\n",
        "  ns = 10\n",
        "  q= 1/(ns)\n",
        "  y = q * np.round(x/q)\n",
        "  y = y*10\n",
        "  return y"
      ]
    },
    {
      "cell_type": "markdown",
      "source": [
        "##Entrenamiento de HMM con Baum-Welch"
      ],
      "metadata": {
        "id": "L6ECMu8gDLaR"
      }
    },
    {
      "cell_type": "code",
      "execution_count": null,
      "metadata": {
        "id": "XjZ9H-kHBYwU"
      },
      "outputs": [],
      "source": [
        "import pyhhmm.utils as ut\n",
        "from pyhhmm.multinomial import MultinomialHMM\n",
        "\n",
        "def makeMarkovModel(X,str_sbj):#Esta funcion entrena un modelo de markov para una secuencia X\n",
        "                                #str_sbj es una string para guardar el archivo en el que \n",
        "    X = [i.astype(int) for i in X]\n",
        "    n_states = [3]\n",
        "    \n",
        "    models_list = []\n",
        "    AIC_list = []#Originalmente se escogeria el mejor AIC al entrenar modelos con n_states numero de estados\n",
        "                #esta lista los almacena\n",
        "\n",
        "\n",
        "    criteria = {'AIC': np.zeros_like(n_states), 'BIC': np.zeros_like(n_states)}\n",
        "    for idx, ns in enumerate(n_states):\n",
        "      \n",
        "      trained_hmm = MultinomialHMM(\n",
        "                    # number of hidden states \n",
        "                    n_states=ns,     \n",
        "                    # number of discrete emissions \n",
        "                    n_emissions=1,\n",
        "                    # length of the observation alphabet \n",
        "                    n_features=[11],\n",
        "                    # type of initialisation to use; can be 'uniform' or 'random'\n",
        "                    init_type='random'\n",
        "                    )\n",
        "\n",
        "      trained_hmm, log_likelihood = trained_hmm.train(\n",
        "                    X,\n",
        "                    n_init=1,     # no. of initialisations - we only do it once this time; if multiple initialisations are used, the model with the best log-likelihood will be returned\n",
        "                    n_iter=100,   # maximum no. of iterations to use\n",
        "                    conv_thresh=1e-4,   # convergence threshold (in this case if the change in consecutive log-likelihood is < 0.1%)\n",
        "                    conv_iter=5,  # no. of iterations for which the convergence criteria should hold before stopping\n",
        "                    plot_log_likelihood=True, # if we want a plot of the log-likelihood evolution over the iterations\n",
        "                    )\n",
        "\n",
        "      # compute the number of free parameters of the model\n",
        "      dof = ut.get_n_fit_scalars(trained_hmm)\n",
        "\n",
        "      # compute the model order selection criteria\n",
        "      aic = ut.aic_hmm(log_likelihood, dof)\n",
        "      criteria['AIC'][idx] = aic\n",
        "\n",
        "      bic = 1#ut.bic_hmm(log_likelihood, n_samples, dof)\n",
        "      #criteria['BIC'][idx] = bic\n",
        "      models_list.append((trained_hmm,aic))\n",
        "      print('{} states: logL = {:.3f}, AIC = {:.3f}, BIC = {:.3f}'.format(ns, log_likelihood, aic, bic))\n",
        "      AIC_list.append(aic)\n",
        "      import os\n",
        "      if not(os.path.exists('modelos')):\n",
        "        os.mkdir(\"modelos\")\n",
        "\n",
        "      with open('modelos/hmms_'+str_sbj, 'wb') as fp: #Exportar archivo en donde se guarda la lista de modelo que se tienen al momento \n",
        "        pickle.dump(models_list, fp)                  \n",
        "\n",
        "      if aic == min(AIC_list):#Dado que n_states tenga mas de un elemento, escoger el modelo con mejor AIC\n",
        "        best_hmm = trained_hmm  \n",
        "      print(models_list)\n",
        "    return models_list, best_hmm"
      ]
    },
    {
      "cell_type": "code",
      "execution_count": null,
      "metadata": {
        "id": "6-0EbRuV_Mgy"
      },
      "outputs": [],
      "source": [
        "from pyhhmm.multinomial import MultinomialHMM\n",
        "import os\n",
        "def makeMarkovModelforChannel(sequences,str_sbj):#Rutina para obtener el modelo de markov para un canal\n",
        "                                                  #sequences: lista de arreglos np de forma (n,1), con estos se enteran\n",
        "                                                  #str_sbj: es la misma string para el nombre del archivo\n",
        "  X = []\n",
        "  for i in range(sequences.shape[0]):\n",
        "      x = sequences[i,:]\n",
        "      x = pretreatment(x)\n",
        "      x = quantize(x)\n",
        "      x=x.reshape(-1,1)                   #El framework pyhhmm exige esta forma\n",
        "      X.append(x)\n",
        "  return makeMarkovModel(X,str_sbj)\n",
        "\n",
        "def make_markov_models_for_subject(run):  #Hacer el modl\n",
        "    mm_list = []  \n",
        "    for i in range(run.shape[1]):\n",
        "      sequences = run[:,i,:]\n",
        "      mm_list.append(makeMarkovModelforChannel(sequences))\n",
        "    return mm_list\n",
        "\n",
        "lista_hmms = []\n",
        "\n",
        "#El siguiente ciclo for puede tomar dias en correr debido al entrenamiento de los hmms\n",
        "for i in range(3,len(list_sbjs)):#Entrenar los modelos para todos los sujetso y guardarlos en lista_hmms\n",
        "  i_ = i+1\n",
        "  lista_modelos, best_model = makeMarkovModelforChannel(list_sbjs[i][1],'sbj'+str(i+1))\n",
        "  lista_hmms.append((lista_modelos,best_model))"
      ]
    },
    {
      "cell_type": "code",
      "source": [],
      "metadata": {
        "id": "wH6pz01ALkQN"
      },
      "execution_count": null,
      "outputs": []
    },
    {
      "cell_type": "markdown",
      "metadata": {
        "id": "7ybCUaefMigy"
      },
      "source": [
        "#Funciones para comparacion de HMMs"
      ]
    },
    {
      "cell_type": "code",
      "execution_count": null,
      "metadata": {
        "id": "mzvUQ0OOMjLC"
      },
      "outputs": [],
      "source": [
        "from scipy.special import rel_entr\n",
        "\n",
        "def gini(x):\n",
        "    x = np.abs(x)\n",
        "    \"\"\"Compute Gini coefficient of array of values\"\"\"\n",
        "    diffsum = 0\n",
        "    for i, xi in enumerate(x[:-1], 1):\n",
        "        diffsum += np.sum(np.abs(xi - x[i:]))\n",
        "    # print(diffsum / (len(x)**2 * np.mean(x)))\n",
        "    return diffsum / (len(x)**2 * np.mean(x))\n",
        "\n",
        "def normalized_gini(x):\n",
        "  N = np.max(x.shape[0])\n",
        "  return N*gini(x)/(N-1)\n",
        "\n",
        "def similarity(Q):\n",
        "  sum_gini_rows = 0\n",
        "  sum_gini_cols = 0\n",
        "  n1 = Q.shape[0]\n",
        "  n2 = Q.shape[1]\n",
        "  for i in range(n1):\n",
        "    # print(normalized_gini(Q[i,:]))\n",
        "    sum_gini_rows += normalized_gini(Q[i,:])\n",
        "  for j in range(n2):\n",
        "    sum_gini_cols += normalized_gini(Q[:,j])\n",
        "  return 0.5*(sum_gini_rows/n1+sum_gini_cols/n2)\n",
        "\n",
        "def KLBstates(ps1,ps2):\n",
        "  ps1 = ps1.tolist()\n",
        "  ps2 = ps2.tolist()\n",
        "  return sum(rel_entr(ps1,ps2))\n",
        "\n",
        "\n",
        "def stationary_states(A):\n",
        "  A_T = A.T\n",
        "  n = A.shape[0]\n",
        "  A_T[:,n-1] = np.ones((n,))\n",
        "  A_T[0,0] = A_T[0,0]-1\n",
        "  A_T[1,0] = A_T[1,0]-1\n",
        "  b = np.zeros((n,1))\n",
        "  b[b.size-1] = 1\n",
        "  pi = np.linalg.inv(A).dot(b)\n",
        "  return pi.T\n",
        "\n",
        "def Qmatrix(A1,A2,B1,B2):\n",
        "  n1 = A1.shape[0]\n",
        "  n2 = A2.shape[0]\n",
        "  stationary_1 = stationary_states(A1)\n",
        "  stationary_2 =  stationary_states(A2)\n",
        "  Q = np.zeros((n1,n2))\n",
        "  for i in range(n1):\n",
        "    for j in range(n2): \n",
        "      Q[i,j] =  stationary_1[0,i]*stationary_2[0,j]*KLBstates(B1[i,:],B2[j,:])\n",
        "      ES =np.sum(Q)\n",
        "  Q = Q/ES\n",
        "  return Q\n"
      ]
    },
    {
      "cell_type": "code",
      "execution_count": null,
      "metadata": {
        "id": "MxsF6AFYGM_5"
      },
      "outputs": [],
      "source": [
        "\n",
        "\n",
        "def compute_adjacency_matrix(mm_list):#con base en la lista de modelos de markov, formar una matriz de adjacencia\n",
        "                                      #esta representa un grafo con pesos\n",
        "                                      #cada peso (entrada de la matriz) es la similaridad entre un modelo y otro\n",
        "    adj_matrix = np.zeros((len(mm_list),len(mm_list)))\n",
        "    for i in range(len(mm_list)):\n",
        "        for j in range(len(mm_list)):\n",
        "            mm_list[i]\n",
        "            mm_list[j]\n",
        "            A1 = mm_list[i]\n",
        "            # extrarer As y Bs\n",
        "            Q = Qmatrix(A1,A2,B1,B2);\n",
        "            similarity(Q)\n",
        "\n",
        "    return adj_matrix\n",
        "\n"
      ]
    },
    {
      "cell_type": "markdown",
      "source": [
        "#Hacer clusterizacion de los modelos encontrados"
      ],
      "metadata": {
        "id": "orsXtunsFOMS"
      }
    },
    {
      "cell_type": "code",
      "execution_count": null,
      "metadata": {
        "id": "9vvJ6P1XciGv"
      },
      "outputs": [],
      "source": [
        "from sklearn.cluster import KMeans\n",
        "\n",
        "# our adjacency matrix\n",
        "print(\"Adjacency Matrix:\")\n",
        "np.random.seed(0)\n",
        "A = np.random.rand(50,50);  # A es la la matriz de adjacencia \n",
        "A = (A + A.T)/2\n",
        "\n",
        "D = np.diag(A.sum(axis=1))\n",
        "\n",
        "L = D-A\n",
        "\n",
        "vals, vecs = np.linalg.eig(L)\n",
        "\n",
        "vecs = vecs[:,np.argsort(vals)]\n",
        "vals = vals[np.argsort(vals)]\n",
        "\n",
        "kmeans = KMeans(n_clusters=4)\n",
        "vecs = np.real(vecs)\n",
        "kmeans.fit(vecs[:,1:4])\n",
        "# print(vecs.shape)\n",
        "colors = kmeans.labels_\n",
        "print(kmeans)\n",
        "print(colors)\n",
        "\n",
        "import matplotlib as mpl\n",
        "# from colorspacious import cspace_converter\n",
        "plt.figure(figsize=(20,20))\n",
        "_=plt.imshow(A,cmap='bwr')\n",
        "plt.colorbar()"
      ]
    },
    {
      "cell_type": "code",
      "source": [
        "from sklearn.neighbors import kneighbors_graph\n",
        "from scipy import sparse\n",
        "\n",
        "\n",
        "graph_laplacian_s = sparse.csgraph.laplacian(csgraph=adjacency_matrix_s, normed=False)\n",
        "graph_laplacian = graph_laplacian_s.toarray()\n",
        " \n",
        "    \n",
        "graph_laplacian = generate_graph_laplacian(df=data_df, nn=8)\n",
        "\n",
        "eigenvals_sorted_indices = np.argsort(eigenvals)\n",
        "indices = eigenvals_sorted_indices[:num_ev]\n",
        "k_means = KMeans(random_state=25, n_clusters=n_clusters)\n",
        "k_means.fit(df)\n",
        "cluster = k_means.predict(df)\n",
        "\n",
        "eigenvals, eigenvcts = linalg.eig(graph_laplacian)\n",
        "\n",
        "proj_df = pd.DataFrame(eigenvcts[:, indices.squeeze()])\n",
        "proj_df.columns = ['v_' + str(c) for c in proj_df.columns]"
      ],
      "metadata": {
        "id": "H03QFLqccwzN"
      },
      "execution_count": null,
      "outputs": []
    },
    {
      "cell_type": "markdown",
      "metadata": {
        "id": "-wRBt5TptNBW"
      },
      "source": [
        "#Algoritmo de Baum-Welch"
      ]
    },
    {
      "cell_type": "markdown",
      "metadata": {
        "id": "PWZa1evRtFQC"
      },
      "source": [
        "![imagen.png](data:image/png;base64,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)"
      ]
    },
    {
      "cell_type": "markdown",
      "metadata": {
        "id": "wMb6b0LutOGp"
      },
      "source": [
        "![imagen.png](data:image/png;base64,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)"
      ]
    },
    {
      "cell_type": "markdown",
      "metadata": {
        "id": "N8XhII-js0b6"
      },
      "source": [
        "![imagen.png](data:image/png;base64,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)"
      ]
    },
    {
      "cell_type": "markdown",
      "metadata": {
        "id": "JGkbD61is_SC"
      },
      "source": [
        "![imagen.png](data:image/png;base64,iVBORw0KGgoAAAANSUhEUgAABAcAAABPCAYAAACXgKxQAAAABHNCSVQICAgIfAhkiAAAABl0RVh0U29mdHdhcmUAZ25vbWUtc2NyZWVuc2hvdO8Dvz4AAAAmdEVYdENyZWF0aW9uIFRpbWUAanVlIDAxIGRpYyAyMDIyIDEyOjIwOjAw6kz/9AAAIABJREFUeJztnTtw21h7hl8omclMigXkLTNjkK7SRCQ1k3IJUpv2FylvkyI/SdltJFLeWiRl1yYpuRYvci1e9LcRCSq1eHFvEXRqE9CWmZgnhfbAvIB36mZ9z4xm1yQIHAAHB+d7z3cRGGMMBEEQBEEQBEEQBEE8WVbuuwEEQRAEQRAEQRAEQdwvJA4QBEEQBEEQBEEQxBOHxAGCIAiCIAiCIAiCeOKQOEAQBEEQBEEQBEEQTxwSBwiCIAiCIAjiHgmHw7i6uppq20ajgXA4fMstehgYhoFQKHTfzVgITdPu7X41Gg1EIpF7OfYsZLNZZDKZ+24GARIHCIIgiD/JZDL0ciaeLPl8HoVCYan7LBaL9EwREwmFQpBlGS9evJhqe6fTCcMwsLu7e8stm49yuYxQKASv14tQKIRWqzXXfnRdh9frfbDnOS02mw2iKI4VOQzDQDabRSwWQywWg6ZpCx+31WrB7/cjEAgsvK/bxufz4fDwEPl8/r6b8uQRqJQhQRDE40bTNGiaBlVVwRiDIAhgjMHj8ZjbiKKI9fX1kfvIZDLIZrOoVquW3+fzeayurvZ9JggCbDYbbDYbACAWi8HpdGJ1dRX81WK3283vf2TS6TTsdvvQ5y6XC5IkodFooFAowOv1AgAYY7i+vobf77/rpj5ayuUyBEHo+2ywD3IKhUJfPxQEoe95sCIajUIQBBwcHMzctkqlglwuB03TEAgE8OrVKwAwn8NgMGh+RhC9RKNRVKtVqKo61L85fFwfxOFwIBwOP6i+FYvF0Gw2kUwmIUkSUqkUjo6OcHV1NfQOmYTH44Hb7cbbt29HbjPq2twljDHU63W8fv0aiUTCHOcH8Xg8UBTFcowpFApIpVK4uLgAAHz+/HlqsWgUTqcTgUAAb968WWg/d0W9XsfW1hYKhQJcLtd9N+fpwgiCIIhHTT6fZ5ubm0yWZQaAybLMgsEg29/fZ263mymKwgAwm83GarXa0O8vLy+ZKIrs8+fPI4+RTqeZoihMFEUGgAFgbrebnZ+fM8YYa7Va5nEAMIfDwTY3N9nV1dWtnfcyqNfrzOl0sv39/YX2s7u7y9xut3n+oigyn8/HdF1njN3cI35/+LXb2dlZxik8StLpNHM6nSyfz0/9m2g02tcHRVFkm5ubrNVq9W032BfX1tZYNBqduP/9/f2pthvk+PiYiaLIarUa63Q6TBRF87lgjJmfWT17xNOm0+kwSZL6+ssg+XyeAbDsP8fHx0ySJNbpdG6zmVNzfHzMAoHA0OcA2Pv372fa1/n5ORNFcey5BYNBJknSzO3sZZFrd35+znw+H3M4HOZ4Uy6Xx24PYOS7ttvtmu/wRUmn00yWZdbtdhfe110SCASYx+O572Y8aUgcIAiC+EHgBlE6nR76rlarMQBMkqQhg93tdk9tFKXTadMwG5xUlcvlIcPoobO/v88AsN3d3aXsz+fzMQBsc3Nz6LtgMMgcDseDmcjfJ7yvHh8fz/zbQCDAADCn0zlym3Q6zRwOB7u8vJx6cjyPOMANt94+rygK8/l8Q/tWFOXRTdSJ22VnZ4etra2N7Rf8WbEaN7rdLpNleWFxcxl0Oh3L8a3T6TAAM7Wx2+2y58+fjxVQuSHtcDjmbnO322Vut3vu57JcLrPT01NWq9XM+zROHODHsxJQGPv+nh71/bTwfjGrIPMQ+Pz589CYStwtJA4QBEH8APCJ0rhVCb660WuQTVrJsDoOX7nt3U+tVmOyLD+61VFd15c6CeHXc/CaHh8fs7W1NdOT4KlzdXU1d185PT01r7GVZ8q8fXFWcYCv+g4aF263m0mS1PcZTXiJQfhYmkgkxm7DvV9GGbD7+/vMZrPdu/C0v79vKUxzAW2c0TzI5eXlSG8JTrlcZgAW8sD69u3bQuJAL9OIA4wx9v79+6Hxofe7eUXTXo6Pj0cKSg+dbrfLHA7HwgIJMT+UkJAgCOIHoF6vAwBkWbaMfWeModlsAgAkSTI/Pzw8hNvtnjq2URAEM7nR0dERGGPQdR1bW1vI5/OPLk5QkiRsbGwsbX9erxeyLAO4yb4M3OQjODo6gqqqfdf+KWO32+fuK1tbW+Y1TiaTfd/puo6XL1/eScxqPB6HYRgIh8NmzDP7M/7ZMIy+be12O9xuN46Ojm61TcTtwxhDt9s181nMS6VSwfX1NRRFGbsNcBOrPiqu3ul0QtO0sUn/ltXmcZycnJg5VNjN4iOA7++YUXH4VpRKJYiiCKfTafk9YwyqqgK4GXNv87yWjcfjgWEY5r3thef88Xq9C92varUKh8Mx9n3Te48eEoIgQFEUXFxcPMj2PQVIHCAIgvgB4BMlRVEsJ5HFYhEA+iZcjDFUq9WJidoG2d7eBgA0m02Uy2VsbGwgGo2OTXj4ENF1femTD0EQEAwGAQAfP37E5eUlDg4OUKlUZk7G9SPCGEOj0VjouguCgM3NTQDA3/72N3NfhmFgY2MD+/v7ty4M6LqOk5MTiKKIra2tvu+sknryCW+1WqUJ7yOl1Wpha2sLdrsdXq8Xq6uriMVic++Pj9lWBrDH44HX68Xvv/8O4EaIdblciEajQ9tyo5vvb5ByuYz19XVsbGzA5XIhk8kgGo0uNSv81dUVZFmGIAjw+/3Y2NiA1+uF1+uFJEkolUoz7Y8bt4M0Gg14vV5sbGyYQtvLly+xsbExV6URQRDuPJkhH5us7le1WoXNZsPBwQFcLhfsdju2traGxMZx8DGW349BDMOA3++H1+uF3W43FxY4sVhsaEy7axRFmSh4EbcHiQMEQRA/ANwgsVqFYozh8PAQAJBIJEwvgXq9juvra8tJ2DicTifW1tYAAP/2b/+GnZ2dB5UtexrC4TA8Hg9WV1eXXmqOiwOapuHXX39FsVgkYQA3/c3pdCISiWB1dXVoUjoLvCSYpmnmfsLhMDY3N++kLxYKBRiGAZ/P1zcBbzQaAGA+H724XC4YhrHQeRP3QyaTwfr6On755RdomoZqtYpyuYy3b9+aAkGr1Rq50m1Fs9mEKIqWBlwikUA0GjWFpP/6r//C+/fvTWG2F7463G63Ldv966+/YmdnB6qqolKpIB6P4927d6Yn2TKoVqvmu0cURTDG8Pz5c7MqyyweU9y4tdlsQ9fG6XRif38f0WgUhmHA4XDg/Pwc+/v7M3km9B5r2UwjNjgcjiERsVar4fr6GrquY3NzE81m0xzfwuHwTG349OnTyL4Yi8WwubmJQqGAdrttLhwA3+cKrVbrXkVM3l+WUc6RmJ2/v+8GEARBEIvBPQCAfhdLxhhKpRJyuRwajQZOT0/x8uVL83f8xTur4SoIAsLhMF6/fg1Jkvr2uSwMwxhyGZ+Wvb29sZPRdDoNwzDQaDTgcrlweHhoOemelxcvXmBzcxNnZ2fweDyPItQinU5bGheT4Cuck2i1WohEIqhWq5AkCYIgYG9vb+Rq5yRcLhdkWUa73UYul0MulwOAucoQzgNfCf3y5Uvf6vGnT58AwNKwEUURwM1z99i8bJ4y9Xodr169wubmZl9JuPX1dTNUJBKJoFAowOfz9f3WMAxUq9WhzwGMFWbX19fNULC1tTVsbGxMNDoHn6VarYZXr171ldZcXV2F3+/H0dGRpZDMy+JaeZNpmoZGo2FZfrVUKiEcDkOSJPNZBG6e+xcvXiCdTluKdqqqWpYivb6+NkOHBtnY2EC5XAYAuN3upYaFLYNutztxGz4W8DAk4Pv9i8Vife9Um82Gk5MTZLPZoT5QLBbh8Xj63nd8td3KuG+1WlBVFalUyhTFe3/baDRwfX0Nt9t9Kx4V2WzWFHanodFoPLj7+xQgcYAgCOKRwz0AAPTlDpBlGbIsw+fzIZlMDuUi4KucfKIyC1yMMAwDhUJhqcY1Z1ws7iK8ffsW9XodhmGg2WxaTtwXwTAMfPnyBcDNpLnValnmgbgNDMNAsVicaQIG3BjbgxP0aZj2vLa3txGPxyFJkjl5naffcXjui3fv3uHk5ATPnz83+/Nt0yvG/fLLL32TcO4VYNWn+Epeo9G4FUGNWD6MMdPFOh6PD33v8XhwcXGBer2OXC43ZKCnUimkUqkht/Bp4r15TPqoULFeBo05xhj29vYAYGjVmfddKwEgFApBkqSx31mJA41Gw/I3fEwZ9Wx6vV4kk0lEIpG+tk+CX+dpQ+Ly+fxIT4l2u215bwHA7/cvXdzloQyDfeLi4gJA/9jBGBu5eq5pGra2tpDJZPrG+3Gr7YIgIJVKQRAEU+DsvZ88NKNX8C0Wi6agMArDMEYK8qqqolgsolgsot1uT/Vu4vd1lnAKYnmQOEAQBPHI4ROlzc3NPhfBaZX/WVxhAZhxrzs7O/jw4QMODw8RCoXGHq9YLCKbzfa1bxzLThTYSywWw+rqqumZsExxwDAMeL1e/Od//ifevXuHdruNTCaDt2/fjv1dJBKBzWbrmyQP7hfAyAlYNptFqVRCpVKB0+mcSxy4TXw+nznh7DV6FsHr9eLdu3emsX5XscPcVfr58+c4ODjoS0bI46CtvCkoGeXjo16vo91uQ5Zly2ekN+mez+cb8sKKRCIzP4ucXm+waRgUqS4uLobazb0R3G43VlaGI4uz2exIkXDUd7VabWx8OwBTvB6EhxrNCjekZwklGCU6jBNqdF2fuW3TtqXX8OUJFmVZ7hP4NU0b6dFls9nQarVG3i+r+8G9NDqdDs7OzrC2ttb3e6vwxGne2alUaqTAwt9rkiTdmWcXsRgkDhAEQTxy+ERpmhWmRUmn0zg7O0Oj0cDV1RU+fPiAZrOJer0+1lV6WlHgLuBeDrlcDqIoWq6EzUs4HDZzMLTbbbx79w4fP37sMyKtyGazY1dm6vU6BEEYuVLGBYFZk0veFXwVExi/cjkL3ANBUZSlGN7TPju9ieR6f1MoFHB9fY3Nzc078xQhbpfeRK9W8PvfbDbN6iS9SJJk2Tf56vG4VfJZnpNms9kXosBX6h0OR18fnbTiPs57aNR3qqqO3B8XAkcJAFafT3oOuRjocDimDol7+fKlpbdOt9vFxcXFxPF5mfB73hs20Wq1cH19PSRU8+s3mNuEY3VP+L0Y17f4+7hX1GeM4eLiAmtra3j27Jm5raqqIw3/aZjHI23ecDNiOZA4QBAE8YjpLek0q7HFJ62NRmOqGOhMJoOjoyNzwvLixQs4HA40m00cHh72xZoOMusEY5HEbS6Xa6KxWK/X0Ww2EQgElpYskCci5LG129vbePfuHTRNQ6FQGOlKzsNCFjGW51l9G2zDPC6cdrt9pskfn9iLoriwt8KyRIZ5GYwX5266o5KHUXKtxwcfR0b1cW6AJZPJvnFE0zREIhFomoZUKmXZR2VZtqxswfc7WI6OJ8G0CuG6vr62bOPguNDrtWMYBmKxGA4PD5HNZtFoNKCq6lAIAC/ZqaqqZTnWarU6cvw5OjoaEmANwzA9pARBsEwIK4riyBVzK8+jWCx2KyEAtw03zPl/B/MsWI0phmEgHo9D0zQ4nc6h9+rgPq3gY1HvfRu8rpFIBKqqot1um/1jnIB9Gyz6XiPmg8QBgiCIRwyvlS2K4sxJzviLd5TLZy+1Wg0HBweo1+t9k+Dd3V28fv0aZ2dn0HXd0q22d4KhqqrlCpsVVnWgp2GaCSJvA590eTweVCoVc0LVarUgimLfCso4AoEABEHoE0jsdruZmPDk5GRIHOAlpTRNgyiKCIVC5t8gt72qVa/X5zZeZxEHWq0W2u02Njc3h86pXq9PPbnvjfu/a3HAyiuAu+kGAoGR4TD8+s6zkkbcD+Nin1utFv72t78BuBFYe8u/pVIpZLNZeDyekfH4DocDJycnfUnpOLxv85V/XdcRj8ctPbB423oNS6vnyDAMfPz40fyelzLkQuze3h4ODw+haZrZR5PJJDweDzweDwRBGDoXHqZgJcam02lUq1Wk0+m+ZyYWiyGVSpllCQfFAV72U9M0y2vDPeX4+6tWq6FUKj0ql/WLiwvs7OyY/x4VrnF2dobd3d2+8IlIJIJUKoVisTjSnX9tbW1sDhar98ngeMr7cDweH7uSfxtVDfichMbK+4HEAYIgiEfMuBKGk+Av3nFxlYwxZDIZ/P7776hUKkPG/8uXL/HmzRszEd7gqta0E4xBJEmaGKc/L7yKgyzLWF9fR6FQ6IuZ5Rm2JUlCrVYb6yLOV3EuLi4sjetQKISzszPLxISSJEFVVfj9fsiybJabvA/uqhTlqP6aTqfx+vVrOJ3OqTxGeCzuMjwQZsVmsw2t8B0cHEAUxbErazThfXy8ePEC+/v7ODo6gtfrhSzLuL6+Ri6Xw9XVFRKJBLa2ttBsNpFIJNBsNpHL5eDxeKDrOprN5siwJW6ENZvNoT7scDggiiL++OMPs1pCPB63HIu4iNprtLtcLrjdbpydnSEUCqHRaODw8NA0ujVNw9HRkemNsLe3h0KhAIfD0dc/7Xa7KZwCw8+tpmmQZRnNZhOpVAo+nw+apqFUKiGTySCfz/eJJsBNngBJklCv10dWa1AUBe/evRv5HfA9Ge4iVU8WpVKpQFVVCIJgJjx89+6dmQPFynDn41vvqrggCIhGozg5OTEF49evX2NnZ6fvvWAYhpkYslKpWI4lXFz57//+b0txBbhJQvj27VvkcjlIkoRSqWS+b3uFCFVVh+55JpMZ8uqoVqtD5+r3++de+ef97bF5gvwokDhAEATxCInFYuYkFbgpqRaPx6EoytRJmux2uzmxG1zV5tmJNU0zJz3c0OdwN0Nu9Lx588asd90rElQqlVurPDAPgiDA4XDgy5cvKBaL2Nvb6zNIuZFvGAay2azlilQmk8HJyYk50ZYkCalUqi+hYDab7fMk2NjYQDAYHLpHqqoOrZ7FYrG+SR2fjA1Ognmip8cCb/9gH/3jjz8A3PSpcrk8cvU9m81C0zTzugqCgEgkAofDcSsVM6wQBAHBYBAnJyfY2NiAqqoolUooFotjQ1R4H5unHjtxf7x9+xYulwvlchnNZhOKomB3d9c0XCqVCg4ODnB9fW0acn6/H/F4fMjY7sXlckEURVQqlSEjaHV1FZVKBfF4HKlUCul0eqSh1Gg0IIriUL+qVqtIJBI4ODjA8+fPUSgUzLFvb29vqILN4eGhpYHH92WV04aP7W/evEE6ncb29jYcDgccDgc0TbN8Hgb3aYXX68Xvv/9umcvG6/Xi9PQUR0dHWFtbG/Jmuw+63S52dnbMPBKjjHLg+xg4KJocHBzAZrPh7du3kGUZ+Xx+6J72VpKoVqsjQ5i8Xi8+fPgAwzAsr43L5cL5+TlyuRwikQiCwSBEUYTNZuvbXlXVvlKt/LeDfVrTtKF7Oa8Iyr1RrLzLiLvhUYkDk7I1D26r6/qTSAo0y3UhiLui2+1aZkN+DPS6VT5UJEkCY8x0TeSTklkmSXyFYdSqy9raGtbW1swVMStkWTarFwCwbEO1Wh2aYNw3uVwOsVjMXPnpbbPX68X5+bkZ7zkKt9uNv/zlL7DZbGg2m0OryZIkwe12w+12A/ieFbv3WDzfwOAKi9/v73Nl5td/cKXtMY37vfkGBs83EolAFEWUSqWxE0Le7wOBgLlPQRDu/DrwiXyhUIDNZpvKQKlWqzThfaRsbW0NGXMcl8tl6e6fzWYRi8XQaDQgSdLQO0UQBOzu7uJvf/sb9vb2hvqFy+WaOAYxxnBycmKGNQ3y5s2boc/29vb6EoQCMEO/fD4fisXikLeDqqqWq8DVahXBYBCSJOHNmzeWxxvFuBAzp9MJt9uNYrFoGS43KsHgrCz6LHq93pnFvlKpNDLXzfb29lQiJw/PGnVs7o1WKBSGvMI0TUM2m0UkEjFF2Ewmg+vra+zu7o48RjabRSgUGuoHfFxflujZarVwcXGB8/PzpeyPmAO2ZHRdX/Yuzf0qisJqtdpU23c6HeZwOKbe/rHCr0ur1brvphCESbfbZQBYt9u976ZM5OrqinU6nb7Pdnd32fv37++pRXfL+fk5A8A+f/58K/u/urpiAFi9XmeMMRaLxW7lOLfB/v4+S6fTt3qMRCLBZFlmjDHWarVYoVCw3K5SqbBKpTJxf4qiMEVRltfAJfL582cGgPl8Psvvu90uUxSFXV1d3XHLbohGoywajd7Kvvm5Hx8f38r+iYdFvV5nAJiu6yP7O2Pf+8W8ff709JSJojj0DpuVWCzGfD4fa7VaLBwOD30PgOXz+b7Put0uk2V5rvd8pVJhAMa2+/j4eO79z8Jd2gmXl5cL3W9OJpNhoiiO3eb4+Jh5PJ6hzxVFYQDMd1un02E2m42tra31bcfvEWM376lR759utzvVez0Wi7FpzM6dnZ0H+w57KizVc6DVamF7e3vpsT+6rsPr9SIWi00df7K6uop0Og2v14tWq3XvLkdWhEIhaJpmrvgNKpiMMfh8Pvj9fksPCF3XsbGxgUQiMXKVc3D1iR8jk8mYqx5HR0fmahbftlwuP/jVjVqtNnMCtl5arZapqLKehCqrq6soFAoAbrL0VqtVMMYgSRKur6/hcDjuPGPrQ2KWpGHTMBiLzvtdIBAYUtD9fj+ur6/N+yUIwtxJ63Rdx97eHhqNhpkYjt/XVCoFp9MJSZLuLBb7vtjY2ICiKMjlcreS0Im7wzudTjO51WOA/bkiN2/FhGnp9RqIRCJTJ2schWEYD8aboNVqYX19HYqioFgsmufWuzrVi67r0HX9wXvtzEM2m73T0AfifnE6nfD5fIhEImOrtLx48QLRaBR7e3tzlXs9PDzE7u7uwnNcv9+PRqNh5ofphb9jB70JWq0WbDbbXHPFSqUysRThq1evcHJyglQqNeTpsEzuMq797du32N3dXdiruVKpTHyXbm1tmXklBr1eHA4Htra2zHkwD2/ppbcPO53Oud/djUbDDLdTFAUejwdOp9NyHq3rOj5+/IjT09O5jkUsiWUqDeVymTmdTlYul1m5XF6aF0E0GmWKooxVDxOJhOXxotGopXL2ECiXy+z09JQBYABYNBpl5+fn5t/79++ZLMtMkqQhxZYxxoLBIAsEAhOPkU6nmSiKDACTZZnl83nzWrVaLRYMBhkApigKSyQS7Pz8/FbOd5mEw2EGgCUSibn3oes6Oz8/Z9Fo1LwHgUCgT0Wu1+tMlmXzu+Pj4x/eG2UcDoeDAWCXl5djt5vFc6BWq7FKpWLuW5Ikdn5+bukNk8/nGQAmiiLb399np6enc51Hp9NhTqfT9A7gq9u9q+dWn/2o1Go1JsvywqtPo/D5fCwWi41cFX+IRKNRtru7e+vHqdfrzOfzsXA4bHpXWDHJcyAcDpteA/wvk8ksv8Ez8P79ewaA7ezssHQ6zQCM9cjx+XxzP9PL4LY8BzqdjjmuEYQVfH4xC/v7+ywYDN5Ogxjr8/ayWsmt1WozP6/8va4oiqWHwiCdTocpijJxzvEYeP/+PVtbW5vbNtJ13fytLMtTje9XV1fs+fPnfe92/s6RZZkpirIUb6ZleAR2u122trZ26956xGSWJg4cHx8zm81mGlkAWDKZXHi/fII+7qXKJyDlcnnou69fvzJRFB/sS/nr16/m9fr69evQ9+Vy2TSYeg2tWQ2X/f19BoDZbLYhg01RlDuZBC+Tzc1NJori2Mn0tPABiQsAvXCjyapvPUVEUWQOh2Piy22esIJeoWyUy10mk2EOh2MhI7bb7TK3280cDofZPt7eQcMgEAhMFOB+FE5PT5nb7X4UoSB3wX0b1oNMG1bwkOAu1YqisM3NzbHvYV3XLUXwu+Q2xAE+3lA4ATEOXdfZ5ubm1O+2SqUyNlxhUZLJpBkWYbPZliLs8rGgVqsxURSnDoflxuxjptVqTTV3GocsyywYDLJ8Pj/Tvh7L9YvFYiQMPBCWIg4EAgEGgO3v77NOp8PK5fLSVL5AIMAcDsfYbdxu91iDIhAITPQ8uC/4Suioc6zVaqbB1LtiHQgE2Obm5tTH4WICgD6l969//euTMX7GwVe1JEkyX866rjOn03nvE9aHxLTP0DziQLfbNT1crFYXl7W6nUgkhp6Db9++MQBDzxQX556C9wBjN8/BQzOKCeKuOD4+Xvp4XygUaMJLPDp6PZqWJUpmMhkWDAZZMBikPFlzEIvFzOt3W/ndCIKxJYgDx8fHDABzu93LaE8f3FgYp+TzbcYlLeErkg9xgr+zs2O6XVrRu5rKz6/T6Ux0z7Ric3OzzwB6Squik+h0Ouynn34yE0ZxYYAmdfMxb0JCLjQ6nc6+z7kwsGhIx6jxgotng+PYNGMQQRAEQRAEQfwILFxn7OTkBABG1tpcBF7iyaoOaqPRQKVSQTabNRM6qaqKWq02tC1PorHsRImLwhjDxcUFAIxM9MHL2Ozu7ppJX3iCLKuyMuMIBoMAgLOzM7M02aLJr+6aVquFeDyOcrm81P2urq6ayXZOTk7g8/mws7NDyaP+JJ/PIx6Po9Vq3epxfD4fgJvn++rqCsBNgppXr16NrfM8Lbxcj8/n60uixJ+pwURugiDA6XSiWq0udFyCIAiCIAiCeOgsLA6wP7OG30Y1AD4ht8pcnMlkcHBwYGbX1jQN8XgcuVxuaNtnz55BluWZJvjsz3rUs/zNiq7rZu1qq/qg5XIZJycnWFtb68sey89j1syhW1tbZh3uo6MjVCqVW6lIcFvXrl6vY3t7G6Io4tdff0U6nV5qu7nAVa1WYbPZHkWW+nmu9ax91efzoVqtotPp4MWLF3NXB5iG3j7KhSuv14udnR2zHu8i8PFBUZS+68GfQyvBze12mxUrpuEuxg6CIJ4edzHeEwRBEE+bhUsZejweXFxcmCvcqqrC7/cvpTSIrusAYFny4/DwEMCN4dJut1Eul7G6umpp7DLGIMsy2u22ZcnAQSKRCBqNxsjvrV62giDA5/PNVG6FG/lOp9M0Thhj0DQNFxcXyGaz2N3dRTwe7xNfNE0DAKyszKbt8DYeHR1BEIRw8YFxAAAgAElEQVRbEXTy+TyOjo5Gfj/q2kmSNLaMD2Osr8zXmzdvzGu2LNbX181+8hBLXw6i6zr8fv/I/jzqWjPGkEwmpyoDubu7C0VR8ObNG1QqFXz48AGqqlqKWctAEARsbm7iw4cP+PjxI9rtNtxu91KEmm63a3rq/Pbbb5bbcGHCilarhRcvXow9Rrlcxtu3b0d+P+qeCILwKMqHEgRxP1xdXWF7e3uu8T6bzS5cOo0gCIJ4GiwsDkQiERwdHeHw8NA02A8PD6Hret9LLJvNolQqmfXjeykWi8jlckPfTTL+GGOoVqtYW1sbKQwA3yff0yroqVQK3W535L5G7WdWY52vwIqiaBoGXLz45Zdf8P79ezx79mzod5qmweFwTCV09FKv100RR9M0lMvliauxhmHAMIyp606/fPlyqBYuZ9y1m3QejUYDkiTBbrcjkUgAuKnTukwymQwMwwBws8JsVYN1EE3TFq7JbRgGDg8PIcsyQqHQ1L9bXV2Fqqpjr+k4Y3QSrVYLzWbTFHt4fx1nQC+DUCiEDx8+QNM0rK2tWXoDzQMPK3I4HH3hR4wx/P3f3wyFVn2XexNomjZRHNjY2Bjp0TOp/5MwQBDEKF68eDF2vB8FjS0EQRDELCwkDhiGgY2NDezv7+PNmzdotVowDANOp3PoZaRp2kijotFoWH53fX099vg8J4HH45nq5cdXDadhnKG/jBctFzaAm9XZly9fTv1bQRAgiuJM7Wi1Wtja2kI+n8fBwQHOzs6Qy+UmigOhUAhOp7MvrGESt3HtXC6XKWycnJxAFEVsbW3NtS8r0uk0Dg8PUavV4HK5YBgG0un0xBVrp9OJYrE40iBUVXVs+EcoFIJhGCiVSojFYjO3e9LEb5G+arfb+0JxuFg3azjLPMflLDMnBve4cbvdfX00n88DuAk1sBLjuBfJtNfyNseO//mf/8E///M/L7QPgiAeDj///DO+fPky1ba3bej/0z/9kymQEwRBEA+Xjx8/zmQ7zsJC4kAoFILb7cabN28AWLv/c8YZl6O+m7RCyVcCrRIWPnQMw8CnT58AzG9sTes5oOs6Xr58iXw+j/X1dQSDQZydneHk5ATJZNLSIOKoqmomMnwI1Ot1NJtNBAKBpbn+VyoVHB0doVqtQpIk+P1+nJyc4OPHj2PdOFVVHZkws3ffiqKM3Ac3fh/6yg4Xs2RZvnX3VO6h4Ha7hxIELkK73QYwnFeAi07RaNTyd3yl7iHE7v788884Pj6+72YQBLEk/uEf/uG+m2Dy4cMH/O///u99N4MgCIKYwL/+67/e2r7nFgdqtRpKpRI6nc7EbQuFAiRJsoxTzmazsNlslgbyJHGAr2r27rfRaAxN/nlSHrfbPbGtABCLxebKTh4IBKaOjeYGkMPhmNnIlWUZZ2dnU23LvTt2dnbMGPOtrS08f/4cX758QTabNcWdXlRVhaZpuL6+xsrKiuV1taJYLE7ljj/IpJwDHL5vnjxw2naNol6vIxQKQVVV0xCNRCI4OTmBqqqWceaGYaDZbCKXy8HpdOLi4gIOh2Ophuy0+Hy+iR42VvDnblq4l85glv/bgD9740SVeeDGfe9567qOs7MzKIoy0otmlionrVZrrgoX0/b/f/zHf8S///u/z7x/giAeN5qmzRR21su04/1trUIRBEEQj4e5xQE+kZ1k2MbjcTidTmxtbUFV1T5DLhQKmX/ZbHbkCrrVCnnvSiZvQzqdRrvdtjQW+e+nMTZCodBc3giT4pF7WcQAkmV5Ktc/XddNYaBXtBAEAaFQCG/fvsXR0RH29vaG2lCpVMzrW6vVIIriVG3zeDz46aefZjofYPpqF6VSCbIsw+VyIZ/Po1QqmTHphmEglUrB5/NNlRCzXq9ja2sLxWKxbzXc5XJhbW0Nnz596sulwWk0GlBVFZVKBTabDeVyGbIsW4oDt21Iz1tCdNY8CdxAvu2QAmD+ahz5fB7tdntkUlDeJ3rvSSqVgmEYZh4LK/j204hQq6urIz0QxnEfwhJBEI8Hm80219jCf0sQBEH82CQSCdhstsWFXjYn+/v7DAALh8Os2+1abqPrOgsEAqzVajEArF6vm9/FYjHz36IoskwmM/T78/NzBoCVy+Wh77rdLgPAFEVhjDF2eXnJHA4H63Q6Q9t++/aNAWDRaHSOM10u3W6Xdbtd5nA4GACWz+dn3sfp6SkDwK6uriy///btGzs9PWVOp5M5HA7LbS4vLxkABoBVKhXLe+jz+dju7u7M7bsteJt5m9xuN6vVaub30WiUAWCSJFn2A87Xr19ZMplkkiSxWCxmuU0ikTD3peu65Taj+mYvsVhs5PMxuK+H0D9Hsbm5yQCwz58/T7U9fz6nOffe33Q6HbNfjruHg9RqNfN36XTachu+b/59vV5nkiSN3J4TCASYKIoznQtBEARBEARB3AXlctmcB0+yTSYxtzhwdXXFRFFkAJjNZmPRaHSksZpIJJgsy5bf8Um91W+5gfH+/XvL3wYCAdPAczgcfeJDL1xkOD09ne7kbolarcYkSTJvXu/fLDfy69evI88nGAwO7ZsLKOO2sTKqRFFkhUJhrnO9LRwOB/N4PMzv9w+1N5/Pm+dyfn5u+XtZlofOe1Ag4P2690+SpL7+ValU2KC21mq1WDQa7ftTFGXoMysh7CGLA91ul4miyGRZntpAnlUcyGQyln1SkqSpft9qtcx7O07QOj4+Zg6Hg8ViMSbLMjs+Pp54HrIss83NzanaQRAEQRAEQRB3SavVMu2X/f39hfYlMDZ/lq16vY5IJNJXBcDj8SAWi/W5BNtsNkQiEUQikaF9pFIppFIpM5P4ID6fD8D3pGGDlMtlABibdT+ZTOLg4GCovOJ90Hu5+f/Pk4HY4/FgbW3NLDM3bv9W2dMHtxtsQ71ex/r6OnRdf1Auz4ZhoF6vQ5ZlyzAOxhgikQh8Pp9ln2B/5p/oPVerkJXe/1qFpPC8FJPi0ePxOGKx2MT7KwgCotEoDg4Oxm53H/C+sLOzM9TfRsEYw8rKCrrd7tR922rbWZ4LxhhUVUWhUBjbzlqthuvrazidzonhLLqu49mzZzg+Pp46nwhBGIaBSqWy1Ioq4+AVU5Y5VhcKBXi93gc1/hM/Dtls1pz3+f3+vrCtVCoFQRDMEMp5cy3cJ6qqmvMDp9PZVya3WCyi2WxCURRUq9W5KhURBEEMwhhDoVBAo9HA27dv597P6JpbU+ByuVCtVnF1dYXd3V3IsgxVVeH1elGv1wHcxGe3220Eg0HLAX5SqbdwOIyzszPoum75/cbGxlhhgDGGw8NDhMPhexcGgO9CgCAIWFlZwcrKylztCgQCODk5GcqgbrX/adox2AZVVc0ke5VKZakl5RaBJ7Ycl9+B90Eres93lChjdX8Gt6tWq2a/jcViI8Wtx0qlUjHzWvAJzqSyl4syeF9mfS4EQUCj0ZgYX7u+vg6v1ztVnotkMglZludKMkg8TriAOOpvEoZhDI0/s+5nluMBN8YUf+fOCmMMmUwG2Wy2L5cNY8wU5wli2TidThiGgYODg6E8MTabDclkcihP1WPCZrPBZrPh4OAA29vbfc+WzWZDpVJBKpWCw+G4x1YSBPEjIQhCn30yLwuJAxy73Y7Dw0O0Wi3s7+8DgGnMG4YBRVHQbrctVyAmiQMbGxtwu91IJpNzta1QKMAwDEuvhcfM9vY2JElCJpO5lf1z40zTNORyuUej3FcqFbhcrlsXgiRJgiRJyGazEARh7oRPqqqaCRUvLi6gquq915ne3d3FxsYGEokEOp0Ojo6O4HA4+lY+HiKMMeRyuaUZ8owxHB0dIRqNPghhkbh9stmsKQqO+rPb7QiFQiMF63A4DLfbbXoNNBoNy/0IgjBk/BcKhT5hcmVl5VbfXfV6HXa7Hbquo1gs9okaL1++hNPpfDRjP/G4cDqd0HUd0WjUrI7E4Z4EqVTqUYsDjDFEo1EYhtG3wOJ0OuF0OpFMJh/8e5UgiMeDruuoVqsjF0inZqGghD8pFAosGAyycrnM4vH4UBK8RCJhmfSrXq8zACMTvnFqtRqTZXlkToNRdDod5nQ6JyYce6xcXl4yWZZnStw2C4lEgiUSiYn356Gg6/pc/WQeWq0Wi8VirFKpjN1uUkLCSqXCyuWy+VepVO79egcCATMXg9PpZIqizNzH5klIuCi7u7sj85PMw/7+PnO73UvbH/E46Ha7ZnJTRVHMJLLfvn1jnU6HpdNpJoqiZeLT8/NzJoqi5fPS6XTMeMDd3d2Rz0Y0GmWiKLJEIjF1AlBFUWZOQHR5eckkSTLzs/CEnb25bHibJ+XmIIh58Pl8TNd1JooiCwQC5uc8mfVjJxAIsE6nwxRFYTabre87n893T60iCOJHRVGUpeTXW4o4wNhNlsRoNDrRmNR1ncXjcabrOovFYkPJ8kbBqxHMYmwEAoEHlW3/Njg9PSUDpodWq3XfTehjknjwENF1nSUSCRaNRtnl5eVc+7gPcWBUQtJ5OD8/Zw6H496FGuJ+4ALZKLGJJ3UdTPojy/LYxKJ8v06n0/L7q6srJsvyzM/drOJAp9NhNputzwDjz+zgO3N/f3/mdy/xY8CFsd7/n/VvFFdXV2Zf48ml+Xibz+fvZFHnNs+Pse8CQDqd7qtO1el0fgjxgyCIh8WybKC/X8zv4Dter3cqNwZVVc043mw2i2KxONX+19fXkUwm0Ww2p3Iz0zQNHo/nh48V5rUsG43Go3W/WyYPrZ7zonE/94EkSUMxoLMiCAKOj4/v1B1/mf2/3W5DVVVKxvYEYYyhWq0CGP38tlotADf9hJPP59Fut8e64ft8PpycnKDRaKDVasFut5vf6bqOra0tJBIJrK+vL34iY+B5Uk5PT83P2J8hDs1ms2/b7e1tvHv3bmwuF+LHIpPJ9OU0EgRhKGEsG0jsO4poNGqZr6bX9TUSieDk5ATZbBaRSATVahXhcHhJZzNMq9Uy54b8HPj5dLtd83Or0J9B/vKXv+D3338f+twwDHM+sr29jYODA+RyOWxtbS0lJvghw0N5p81VxcN/f/T5+jw0Gg1ks1mkUqn7bsrc1Ot1ZLNZHB4e3ndTANyE/oVCIbhcrvtuykj4M5RKpWaahy7NBlqKxDADuq6zZDLJ0uk0rcoRBEEQD4qrqysGgImiOHJlkJfN7PUsCAQCE8t98rKgg79l7Gb1f173/Vk8B3gp3LW1tb628rLCg55ovJznj+6FR3yn0+mYfdzv95thNVb/5X9fv35l5+fn7P3790xRFLMc7agVcu5yz+l1vb8Ll/vNzU2zFPfXr1/7wocGz43/+/z8nB0fH5seQPz3Vs98Pp83PQUYuwkxBMBarRbb3d29k/DH+4CH887i/dTtdhca/+6Ty8tL5vP5zBDMRevL91Kr1dja2tqthQ7fJYFAYGx5vXq9zqLRKIvFYiwUCt1bOx4Sx8fHQ+/pu+LOxQGCIAiCeKgcHx8zAGxzc9Py+3K5zAD05XvhBvQ0rsK9oQX8pR8IBBZyM55lUsrzKQyGP/DztmpHIBCg0IInxuXlpWkAJxKJmX9fLpdNgcHKuBkUALjrfSaTuROX+14BZB4xotPpmAKDVYxvMBjsWwDjOT3C4fAPnW9AUZSJxpeVMMLzm9Rqtdtq2tJJp9Nsc3PTPJ/T01MGYO5wzF50XWc2m21s/Liu6/cuHHABLZ1OM0mSRr4jeE6wXsGsl3Q6zXw+n/luvQ3ev3//6N5jPp+PBYPBOz8uiQMEQRAE8Sej8g10u112eXnJbDYbk2W5L8cFj9efZkWi1+iq1Wrs+Ph46tw7o5hWHOh2u2xtbY0BYMlk0kyCWi6XR+ZRYOy7oPDt27eF2kk8Lvb39xkAJknSXEZbp9NhDodjaEW41WqxcDg8tL0sy0ySpDtLIn1+fm4+i/Mmsx0l7FkJAMFgkEmS9MPmGxiXkJXDxxkr9vf3zSSwD518Pm8pICuKshQvq2g0OvG9IMvywu+ORWLUw+EwUxSFSZJkPkfj3hHHx8cjPW0Y++69dhvGcKfTYZIkLdWz4y74/PkzA2AmDr4rSBwgCIIgiD/hq4mhUIjFYjEWi8VMt1FRFNnOzo5llYJpV1i5lwH3HnA4HAuv/kwrDvCQAh4+0PvHP7eahLx///5eJijE/dLtds2+4XQ65+qn5+fnQwZMJpNhhUJhaFsuQt2ly32vADLPii9f8e69NqPEj0qlwgD8kBW0ut0ue/78OdvZ2Rm7DYChimac+zKEZqXb7bJ/+Zd/YV+/fh36fLDyxjzwPjXOa4Ab0uOu9ySsns1ZqNVq7Pz83PSKmSQOTKp+k0gkbu352N/fnxj291BZ1LNwHpaWkJAgCIIgHjNXV1dmksH/+I//MJOVKYoCSZLgdDrHJmFzOBwTjyEIAnw+H46OjtBqtVCv17G6urqcE5hAo9EAALjdbqiqan6u6zp+/vlniKJomXSQkt0+TQRBQDabhcvlQqPRwN7e3tRJ5jgbGxvmM6NpGra3t6GqKmw2GwzD6Evgube3h1wu15eo87Y5ODhAtVrFxcUFXr9+jXK5PNPzuLq6inq9bp6j3+9Hs9mEYRgA0JdIzuPxwOFw/JDJCBuNBr58+QK/3z9yGz7muN1uy+/tdjsURcHh4aFlEsuHQiaTwdbWFp49e9b3eaPRwPX19cL3N5vN4vr6GltbWyO34cnc77Mv8YR+bELSTs7q6ip8Ph8+fPiAV69eDX3P30/TvEdngTGGw8NDhMPhO02SvSx8Ph9+++03xOPxOxsbSRwgCIIgCPRPXnuNmknw7abdnk+mAoHAnRpCfPLl8Xj62sonmj6fz/IcHuOEilgOdrsdmUwGL1++RC6Xw+bmplklaVq44GSz2VCpVEZuJ0kSNE1bpLkzMyiAxOPxmbOq9z7Dkypw8WfwPul2u6hWq1AUBSsrK0vZZ6FQAICRFU0YY6jX6+Y2zKLahSAIcLvd+PDhw9hqGIwxGIYBSZLuZWw6OTlBJpMx2wLctP3g4AAOh2NsxZppKJVKUBTF8tz48XrH8nHX6qGhKApOTk7Q6XT6xBX2Z5UgWZbhcrnQarUgiuKQADMP9Xodf/zxx9hqO7quwzCMO30fTwsX5yuVyp21bzmjAkEQBEE8cngJw1ETs1HwCds0Kyh8EgTc/aoPX80c9AQolUoAbkocWjHtyhDxY7K1tYXd3V0AwOvXr3F1dXXPLVoudrsd6XQaAHB0dIR8Pn/PLbodarUatra28OLFC8TjcTx79gyhUMgcFxbh4uLC0iNA0zQIgoCVlRWz5OPLly+xsrKCZDI5tL3X64VhGKaQMEgsFoPdbsf29jZcLhcKhQL8fv/I7ZcNYwyapmF1dRV+vx/Pnj3Ds2fP4HK5oGkaVFVdyFBnjKHRaGBtbW3ou2w2i5WVFaysrODs7AwA8PPPP2NlZWWu878PQYF7G/R6rgE3/aTdbmN1dRVbW1vY3t7G+vr6wkJL77FkWbb8Pp1Ow+v1wuv1Dh2PlxweJ2reNna7Hc+fPzfnDXcBiQMEQRDEk2cRo50b29O8vA3DwKdPnwCMXmW7bURRNP+/1Wrh7OwMf/3rX/HixQvL7QcncsTTIx6Pw+FwwDAMvHz58ocTjF6+fPlDCyCZTAa//vorfvnlF2iahmq1iqurKxSLRVMU1HV9rjrp3GAGhg1Om82Gb9++4du3bxBFEWtra/i///s/fPv2DXt7e5b7Aqw9LILBIA4PD5HP51EsFlGpVLC9vY1SqbQUgWMaVFWF2+2GJElQFAVutxu7u7tYW1tDu91e+LkwDAPX19eWoS2hUAjdbheXl5cAgN3dXfPacqP7vpkkOPCQgcH7yz1PGGNIJpNQVRW1Wg25XA6JRGKhNl1fXwOA5ap7pVJBqVRCo9GAw+FALpfru4eZTAaapt37eGez2e60HSQOEARBEE+eVqtl5huY1WjnE7lpXtzc0HY4HHeWa4BjJXrE43HIsjyVK/V9iRnE/bO6uop0Og1RFNFsNkd6mTxmegWQ33777b6bszTq9TpevXqFtbU1vHnzxvz82bNnUBTFzH+SyWQQDAbN71VVhcvlgiAIE8Mh2u02FEWx/G5lZQXVahXX19dQFAV/93d/NzKcgQutg+ElsVgMJycnSCQSWF9fB3DTJ7mYMTi28dCpeDw+tt2zoqqqOQ7u7e2hVCrh4OAA2WwWhmEsfDzuATBqlVsQBNPTi4eFLCs0ZBnMa7xyYT2TyZhGPH8/lkqlhYziceJ2KpVCPB7vC2voFTi4h8ZtvPsajcZUYVSCIEAQBPzxxx9Lb8MoKOcAQRAE8WRptVrQNM2ccDmdTlSrVYiiONNqjKIoaDabI79vNBowDAMnJycAYLoq2my2O4sj3NjYgCzLqFar2NjYQCaTQalUgqqqY4WKZrM5NGkinh7r6+tIJBJ4/fo13r17Z7ri/ihwAWRjYwONRgOxWAwHBwf33ayF4a7SvckROU6nE2dnZ2i1Wjg6Oupzn/Z4PIhGo9je3l44KSk3eid5ZUmSNPSZrus4OjrCTz/9hO3tbfNzxhiazaZlOAN37192crtqtdonoHAEQYCiKEvLKTHOg6M338A0JBIJc/W8l3a7jXa7PVLo29raWnoyWv4O6X1X9hrmvcfj3iDj3qvTHnNUEsxIJGKGp1xfX/fd206ng2azORRm6HQ6kc1mR14bTdPG3r9IJIJGo4FqtWrOASYhiiKFFRAEQRDEXXB4eIh4PI56vQ63242ffvoJ8XgcuVxu6n3wycenT59GrnBEIhHEYjF0Oh0oigJd13FwcHDnLvuFQgG5XA5OpxO5XA7lcnnsBJBP3EatChJPi1evXmFzcxOiKFoaco+d9fV101iax8X+oVGv1/Hp06eRYicfr169emWZIFVV1YlG6DSrutywmUdMymQyMAwDXq+3z0jjY6dVFRkuciwzrwsPn7ASc3vD0m7T9ZsfZxbPM0EQwG5K18/0d5v0hoFomobr62s4HI6p7++y4P2RJxId9JwB+qtrqKqKZrM5dmzIZDJjr188Hr/XHAbTQJ4DBEEQxJPFajVtHkKhEN69e4dGo2E5CecTjfvOLM0TZ03bDj5xs1otI54euq7jy5cvSCQSc8c5RyIRHB4ewufzTczuPy2GYUBV1bGl9Kal0WggEAj0rVI/NLLZ7FTJ2nRdB4CpxD2rHADVanXicSaNI9ygXVtbm2jQWuUO4OFeg6u/fEy1EgBmNaAH22AlfFUqlZHJarlnxCyGrNVx+L9HuZvX63UzPGPa41jdV+DmfNrtNt6+fTvVfpYBN5p7jetWqwVg+D7y+7u5uTnVvkfdN1mWTY+9UZRKJTx//rxvTLMStOr1OhwOx0LCqCRJM4sv19fXfbmCbhvyHCAIgiCIBXnx4gU2NzfNElejeCiu+dO2Ix6PQ1GUB113nLg7IpEI/vrXv1rWKZ+WVCoFWZaX4o3CY8A9Hs9ShL50Oo3r6+uZPIfuCk3TsLW1BY/Hg+3t7ZkMjFHeQXwcCAaDQ4a0rutoNpvweDzQNA3xeBwej8dS0FEUZaTbMzdoe42/YDBouXrKXeZ7jUduFA2KUb0JZCuVSp97fK/HQzweRygUMkWOSCSCUCiEra0tc/tIJGL2H5vNhnA4PNQ2VVVHrhgfHR2Z++HbhkIhOJ1O09BvNBqm10EqlbL0QOD3iQsiVm0Avos9jDHYbLZ7T5g3K1bXsTcEhDGGUqkEURRNkY7fN36NgRtRvve+WVXAmOQB1O12cX19PSTs9FYvKhaL8Hg8ODg4gGEY8Hg8I0NIlv2O554ct+lBMQiJAwRBEASxBCKRCE5OTszVuseOrus4OTn5IZPPEbPDs/n3JrWbB578cxku39wwXIbHQLlcxtHR0USB776w2WwoFAozJb2z2+0QRdFyJbper5sJ16xQVdU0zFOpFPx+P6rV6tDqviAI5nZWRio3srjhW6vVoGmaZYgB33evQWe1Slsul/u8A7LZbJ9xWa1WTcEoEolA0zQYhoFsNguPxwOn09lX/q83hjwUCg3F6HPvB6sV6Hw+j1wuh+PjY9Pgz2azyGaz0DTNvPbZbNZMNOjxeCy9JARBgCzLI6svXFxcAPgulCSTSQSDwQcjOk+C5w/ovVdclOo952QyiXa7jUwmY95fv98Pp9PZF4rHQ+QAwO/3W4oq/JpzD4VR9Pazer1u5rNYWVmB3+83j8urKSwjH8O0oo6maSOTVN4GFFZAEARBEEvA6/UikUggFAqZCQ4fK4wxbG1tYWdn54dKOkfMRzqdxqdPn5aSI2Mw4Sc3Cu4zh0GtVsOrV69QqVRuvYrIKPfn28But5tJJL1eL2w2G3RdR7FYhKZpOD09xfr6Oj59+oRkMolGo2F6TfBEpfF43PQWqFQqlqKOoij4/fffLdvg9/vx5s0bNJtNFIvFvv0Nwldje8ecvb095HI50/292WxCVVUoioJ2u41isYhGo4FsNmu2EQAODg5QKBQgSRKy2SwkSUKj0YDH44Hf74fP5zPPk68c8/ZarQrzigx+v9/0LMjlcigWizg9PcXLly/NbUOhkHmO/Hr1hr04nc65Ehv6fD6USiVUq1WUSiWcnZ3dW6nZcrmMi4uLvoSBv/76KxwOBxwOh2VYDr83vYa1y+VCIBDAu3fv8OzZMzQaDbx9+xbpdNr07rDZbPB4PIhEIqbXxGBYSSgUsrxu/PtGo2FZrndlZQWKouDs7MxMTMhDMXq9m7gHTG/f1DTN7HecarU6lMhUluW5w5RarRa+fPmy9OSa4yBxgCAIgiCWxKtXr1CtVpFMJkfGej4GeIlD7i5LPF3q9fpQJvtpYYyZBg1f3ew1MFOplJm5m6/sTbOatsyVUl3X8dtvvyGfz89VOSQcDiMSicBut5uGarFYRLFYhM1mM13MNU1DKpXCwcGB6V10F+f66tUrMyN7vV6HzWZDLBYzDaVGo2EmUestaXGm69AAAAeaSURBVFqtVuHz+WAYhrliO8rbgxtMvaX+OHa7Hefn56hWq7i6uhorwFSrVWxubvadsyAIUFUV2WzWdO0vFoswDAPpdBr1eh3VatX8jaqqcDgcCAaDZmZ5bpTzFftSqYRarda3PRdsGo3GUMgLzzeQy+WQyWSgqioYY3C73Ugmk0Pn4/F4EAqFTAHCMAw0m82+0JdR997j8eDVq1eWeWG4gXl1dQW73X5vwgDwXchQFAU7Ozt931lVRwC+V74ZfM5yuRzS6TTK5TIkSUK9Xu/bhoe2NJtN07OHC0ScRqNhXu9e7Ha7WaWnV8DppVgsolAoQFVVyLIMn8+HXC7X198H+wkA81nq5eDgYOizUc/wNKUM+T3uDYO5bUgcIAiCIIglksvlllbSahqy2ezSM6vfRhkr4vFRr9extbWFQqEw14p6PB7H6urqUCxvJBIxY4i5oQXcuOxaua0PGlLb29tL6fOMMXg8Huzv72N9fX3m39frdZRKJdPoKxaLyGazODg4MEuaFYtF81nyeDymaFgsFvtc2wHrc+U5FRbB5XKNTCBps9mGVjp5vgHubi8IAhqNhmkYDY4NLpcLiqKgUChYehptbGxMzFtydXWFi4sLnJ6eDn23uro6JLZKkmQZ4sJDCiKRCAzDMEMi4vG4WZmGtxmA6U3AaTQafXHtfJ/cEJ12BVjTNNNYHSw/WCwWRxp7fr8fe3t7yGQylrk9HkqizFk9ynRdx9nZGd6/f29pLE/KY8LFQ37fBsUqq/sG3DxT0WgU7969QyqVGjp2MpmEKIrm8RljWF1dxdraWt858n4FwHymbTbbSMN/2oS/kyiVSnC73XdW8hgAwAiCIAiCIAiih06nw5xOJzs/P5/r98fHxwwAOz09NT+7urpiAJjT6WSVSoUxxlir1WK6ri/U1lgsxhRFmfl3gUCA7e/vz3XMy8tLJkkS29nZYYwxpus6a7VaLJPJMFEUze0cDgdLJpPmv8Ph8FzH41QqFQaAdbvdhfYzjkKh0HcOAFilUmHhcHjkvTo/P2eiKLJOpzPXMXd2dua6h4OIosgKhQJj7OZax2IxVqlUWCaTYYwxVq/XGQCm6zrTdZ3ZbDbznvRu14vb7WafP3+eqR2Kopj7jcVifccMBoNjf7u/v7+UazGJVqt168fgHB8fM1mW5+63tVpt5H0rFArmPbei0+kwURSHxrJ0Os0AMIfDYX62v7/PALByudy3raIoLJPJsHq9Pvb+xWKxieeo6zoDwMLh8NhtP3/+bNmW24YSEhIEQRAEQRB9+P1+7OzsTF2pgv2ZVbteryMUCuH169cQRbFvhZQnueOu+PF4HDabrc9Vl+9n3N8y4K6/s5RyY4zh6uoKsVgMv/76KwzDMLPgS5JkhhEMupPzFUfDMPraf1fnOiuGYfStwmYyGXO1dFS+hI2NDfh8vrmqRrRaLXz8+BHRaHTuNgMwQyB649A1TTNDO4Abr4dMJmN6r1QqFRiGgXg83rcdhzGGdrs988ptKpWCpmmIRCKw2WzmMWOxmOUKdy97e3vQdR3lcnmmY87Ksj3ORqHrOt69e4dEIjF3mIzL5TKvXTwe77tvjUZjbFLS1dVVJJNJvHnzpu+Z4mNPIpEAYwzJZBJHR0dIp9NDnhHcy6lYLC5UGYVXWIhGoxBFEXt7eyM9Dd+8eXMveX8Edl8jD0EQBEEQBPHgCAaDuLi4QCAQAPDd3b33vwDM/282m6Yrem9YQCAQ6CsLGAwGcX19bSamU1XVjCcPhUKWYQVWDIYV9O5rGtLpNF6/fo1wODyxfrggCNA0De12uy/7PHCTaKzVavUZPE6nE+FwGNvb22YMPp9q8xAgXhJwMKzAisGwAr7Pbrf74LLU67oOj8eDZDI5k6jEr9kiJTJvC03TUC6X77xtrVbLLJl320kybxufzwdJku69RGg0GoVhGH25dJLJpJk8UlEU7O3tLXS9+Vi2KOl0GkdHR1BV9c6TtVLOAYIgCIIgCALATRy9pml4/vw5VFXti4O3ionvZW1tre/fgyukzWZzaOLca3DPm8RT0zRcX19PVQmAxz73ZoXvFT44Vuf6/PlzPH/+3Py33+8fMtAlSTJLqnGjgwseXAjhv52nBCO/Vu12+85WfqdldXXVzCmxvr4+lVFTKpUQiUQeTCz9IDab7V5EC7vdjlKphIODg4VWqu8bnkSyN9nlffH27VuEw2HU63Uzd8He3t5SkwcvQxgwDAMXFxf3IgwA5DlAEARBEARBDGAlCEwSBwYZNJw9Ho+5es5d8m02G+Lx+FyTYO4t0Ns+m8028wR9WnFgEKuV+0ajgVQqBUmS+hKYybKMvb29uSf7vGxa77kCN14TBEEQy4LEAYIgCIIgCIIgCIJ44lBCQoIgCIIgCIIgCIJ44pA4QBAEQRAEQRAEQRBPHBIHCIIgCIIgCIIgCOKJQ+IAQRAEQRAEQRAEQTxxSBwgCIIgCIIgCIIgiCcOiQMEQRAEQRAEQRAE8cQhcYAgCIIgCIIgCIIgnjgkDhAEQRAEQRAEQRDEE4fEAYIgCIIgCIIgCIJ44pA4QBAEQRAEQRAEQRBPHBIHCIIgCIIgCIIgCOKJ8/9yhJ/EuUHFMwAAAABJRU5ErkJggg==)"
      ]
    },
    {
      "cell_type": "markdown",
      "metadata": {
        "id": "UTvfYRA6tX__"
      },
      "source": [
        "![imagen.png](data:image/png;base64,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)"
      ]
    },
    {
      "cell_type": "markdown",
      "metadata": {
        "id": "sNab41KktpZE"
      },
      "source": [
        "![imagen.png](data:image/png;base64,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)"
      ]
    },
    {
      "cell_type": "markdown",
      "metadata": {
        "id": "3MSG9RNe0rl8"
      },
      "source": [
        "## Funciones y Procedimientos de `EEGv01b.ipyn`"
      ]
    },
    {
      "cell_type": "markdown",
      "metadata": {
        "id": "e59LAGy91TJL"
      },
      "source": [
        "Dividir un arreglo de [Trials, Canales, Tiempo] para cada clase y tomar un trial."
      ]
    },
    {
      "cell_type": "code",
      "execution_count": null,
      "metadata": {
        "id": "qvEPmFtf0_9y"
      },
      "outputs": [],
      "source": [
        "tc1 = run[class_ == 0]\n",
        "tc2 = run[class_ == 1]\n",
        "\n",
        "twoclases = np.concatenate((tc1[0,:,1024:1536],tc2[0,:,1024:1536]),axis=0)\n",
        "\n",
        "plt.figure(figsize=(24,16))\n",
        "covMatrix = np.corrcoef(twoclases)\n",
        "plt.imshow(np.abs(covMatrix[:64,64:]))\n",
        "plt.yticks(range(0,64), channels)\n",
        "plt.xticks(range(0,64), channels, rotation = \"vertical\")\n",
        "plt.colorbar()"
      ]
    },
    {
      "cell_type": "code",
      "execution_count": null,
      "metadata": {
        "id": "eaTPazxE9MxN"
      },
      "outputs": [],
      "source": [
        "def SumCovMatrix(covMatrix):\n",
        "  newColumn = []\n",
        "  for i in range(np.abs(covMatrix).shape[1]):\n",
        "    newColumn.append(np.abs(covMatrix)[i,:].sum())\n",
        "\n",
        "  newColumn = np.asarray(newColumn)\n",
        "  newCovMatrix = np.concatenate((covMatrix, np.expand_dims(newColumn, axis=1)), axis=1)\n",
        "  #print(covMatrix.shape, np.expand_dims(newColumn,axis=1).shape, newCovMatrix.shape)\n",
        "  return newCovMatrix"
      ]
    },
    {
      "cell_type": "code",
      "execution_count": null,
      "metadata": {
        "id": "c8TEYbqj9QBt"
      },
      "outputs": [],
      "source": [
        "newCovMatrix = SumCovMatrix(covMatrix[:64,64:])\n",
        "\n",
        "plt.figure(figsize=(16,8))\n",
        "plt.imshow(np.abs(newCovMatrix))\n",
        "plt.colorbar()"
      ]
    },
    {
      "cell_type": "code",
      "execution_count": null,
      "metadata": {
        "id": "BVSes2MK9WqA"
      },
      "outputs": [],
      "source": [
        "def SortMatrixbyRow(matrix, row):\n",
        "  unsortedRow = matrix[:,row]\n",
        "  sorted_matrix = np.zeros_like(matrix)\n",
        "  index = np.arange(0,64,1)\n",
        "  new_index = np.zeros_like(index)\n",
        "  for i in range(len(unsortedRow)):\n",
        "    for j in range(len(unsortedRow)):\n",
        "      if matrix[j,-1] == np.sort(unsortedRow)[i]:\n",
        "        sorted_matrix[i,:] = matrix[matrix[:,-1] == np.sort(unsortedRow)[i]]\n",
        "        new_index[i] = index[matrix[:,-1] == np.sort(unsortedRow)[i]]\n",
        "  return sorted_matrix, new_index"
      ]
    },
    {
      "cell_type": "code",
      "execution_count": null,
      "metadata": {
        "id": "2cpX2Kch9Y4P"
      },
      "outputs": [],
      "source": [
        "sortedCovMatrix, index = SortMatrixbyRow(newCovMatrix, -1)"
      ]
    },
    {
      "cell_type": "code",
      "execution_count": null,
      "metadata": {
        "id": "CGu3ZjSdIMsC"
      },
      "outputs": [],
      "source": [
        "np.array(channels*2)[index[::-1]]"
      ]
    },
    {
      "cell_type": "code",
      "execution_count": null,
      "metadata": {
        "id": "ALsP9lha9bLW"
      },
      "outputs": [],
      "source": [
        "plt.figure(figsize=(16,12))\n",
        "plt.imshow(np.abs(sortedCovMatrix[:,:-1][::-1]))\n",
        "plt.yticks(range(64), labels = np.array(channels)[index[::-1]]);\n",
        "plt.xticks(range(64), channels, rotation=\"vertical\");"
      ]
    },
    {
      "cell_type": "code",
      "execution_count": null,
      "metadata": {
        "id": "xZ7ZGZDvEWVM"
      },
      "outputs": [],
      "source": [
        "sorted_channels = np.array(channels*2)[index[::-1]]\n",
        "\n",
        "plt.figure(figsize=(20,12))\n",
        "plt.plot(sortedCovMatrix[:,-1][::-1])\n",
        "plt.xticks(range(0,64), sorted_channels, rotation='vertical');"
      ]
    },
    {
      "cell_type": "markdown",
      "metadata": {
        "id": "GS8whi1AS_-N"
      },
      "source": [
        "# funciones"
      ]
    },
    {
      "cell_type": "code",
      "execution_count": null,
      "metadata": {
        "id": "5Quv1jAXmwwI"
      },
      "outputs": [],
      "source": [
        "def sliding_window(data, window, overlap):\n",
        "    \"\"\"\"\"\"\n",
        "    return np.array([data[start:start + window] for start in range(0, len(data) - (window - int(np.ceil(window * (1 - overlap)))), int(np.ceil(window * (1 - overlap))))], dtype=object)"
      ]
    },
    {
      "cell_type": "code",
      "execution_count": null,
      "metadata": {
        "id": "2J4L2e6pCzyr"
      },
      "outputs": [],
      "source": [
        "def gauss_kernel(X):\n",
        "    d = dis.cdist(X,X)\n",
        "    sigma = np.median(d)\n",
        "    K = np.exp(-((d)**2)/(2*sigma**2))\n",
        "    return K\n",
        "    \n",
        "def kernel_entropy(A,alpha=2):\n",
        "    #A = A/np.trace(A)\n",
        "    H = np.real((1/(1-alpha))*np.log2(np.trace(np.asmatrix(A)**alpha)))\n",
        "    return H\n",
        "\n",
        "def joint_kernel_entropy(A,B, alpha=2):\n",
        "    Kj = (A*B)/np.trace(A*B)\n",
        "    JKE = kernel_entropy(Kj, alpha)\n",
        "    return JKE"
      ]
    },
    {
      "cell_type": "code",
      "execution_count": null,
      "metadata": {
        "id": "8p9hX4HUBa3b"
      },
      "outputs": [],
      "source": [
        "def kernel_marginal_entropy_window(X):\n",
        "  etropy_vec = []\n",
        "  kernels = []\n",
        "  for i in range(X.shape[0]):\n",
        "    kernel = gauss_kernel(X[i].reshape(-1,1))  \n",
        "    kernels.append(kernel)\n",
        "    etropy_vec.append(kernel_entropy(kernel/np.trace(kernel)))\n",
        "    \n",
        "  return etropy_vec, kernels\n",
        "\n",
        "def kernel_mutual_information_window(Marginal1 , Marginal2, kernel1, kernel2 ):\n",
        "  etropy_vec = []\n",
        "  for i in range(Marginal1.shape[0]):\n",
        "    join = joint_kernel_entropy(kernel1[i], kernel2[i])\n",
        "    etropy_vec.append(Marginal1[i] + Marginal2[i] -join )\n",
        "  return np.array(etropy_vec)"
      ]
    },
    {
      "cell_type": "code",
      "execution_count": null,
      "metadata": {
        "id": "ZQBbijGVFPKu"
      },
      "outputs": [],
      "source": [
        "new_fs = 256\n",
        "def winddowandentropy(X, win=int(0.5*new_fs), over=0.8):\n",
        "  X_windowed = sliding_window(X, win, over)\n",
        "  Xentropy, kernels = kernel_marginal_entropy_window(X_windowed)\n",
        "  return np.float32(Xentropy), np.float32(np.array(kernels))\n"
      ]
    },
    {
      "cell_type": "code",
      "execution_count": null,
      "metadata": {
        "id": "U1dqDN_5dRS7"
      },
      "outputs": [],
      "source": [
        "def mutual_information_perchannels(path_kernels, sujeto, tri):\n",
        "  path = path_kernels\n",
        "  with open(path_kernels+'sujeto'+str(sujeto)+'resting_parte'+str(tri)+'.pickle', \"rb\") as f:\n",
        "    X = pickle.load(f)   \n",
        "  entropy_array = np.zeros((len(X), len(X), X[0][0].shape[0]))\n",
        "  #X must the object with kernels and marginal entropy \n",
        "  for chan1 in range(len(X)):\n",
        "    #print('channel nº: ', chan1+1)\n",
        "    for chan2 in range(chan1, len(X)):\n",
        "      mutual = kernel_mutual_information_window(X[chan1][0], X[chan2][0], X[chan1][1], X[chan2][1])\n",
        "      entropy_array[chan1,chan2] = mutual\n",
        "      entropy_array[chan2, chan1] = mutual\n",
        "  return entropy_array"
      ]
    },
    {
      "cell_type": "markdown",
      "metadata": {
        "id": "szQHjEck66Qw"
      },
      "source": [
        "# Nmarginal and kernels"
      ]
    },
    {
      "cell_type": "code",
      "execution_count": null,
      "metadata": {
        "id": "SPqleknc-tuA"
      },
      "outputs": [],
      "source": [
        "path_save_marginal_andKernels = '/content/drive/MyDrive/entropias_algoritmos/entropies_giga/entropias_marginales_kernels/'\n",
        "new_fs = 256"
      ]
    },
    {
      "cell_type": "code",
      "execution_count": null,
      "metadata": {
        "id": "siCovSjOZVWh"
      },
      "outputs": [],
      "source": [
        "fs/2"
      ]
    },
    {
      "cell_type": "code",
      "execution_count": null,
      "metadata": {
        "id": "MgWSjZd6YI7a"
      },
      "outputs": [],
      "source": [
        "#  [2,7,8,11,12,16,17,18,20,32,33,38,40,44,52] \n",
        "for sub in [52, 20]:#Subjects:, 14 , 41, 2,23,7\n",
        "  print('sub:',sub)\n",
        "  start = time.time()    \n",
        "  db.load_subject(sub) \n",
        "  trials, class_ = db.get_data(classes=['left hand mi', 'right hand mi'])\n",
        "  n_trials = trials.shape[0]\n",
        "  print(trials.shape) \n",
        "  # trials = trials[:,:,int(2.5*fs)::]\n",
        "  # print(trials.shape)\n",
        "  trials = resample(trials,int(new_fs*trials.shape[2]/fs),axis=-1)\n",
        "  print(trials.shape)\n",
        "\n",
        "  for tri in range(trials.shape[0]):\n",
        "    start = time.time()\n",
        "    print('trial Nº: ', tri+1 )\n",
        "    y = Parallel(n_jobs=-1)(delayed(winddowandentropy)(trials[tri,ch,:]) for ch in range(trials.shape[1]))\n",
        "    #y[canales(19)][0 = H marginal y 1 = kernel(500*500)] esto me da un array de 91 marginales o de (91, 500, 500) kernels\n",
        "    print(y[0][1].shape, )\n",
        "    with open(path_save_marginal_andKernels+'sujeto'+str(sub)+'resting_parte'+str(tri)+'.pickle', \"wb\") as f:\n",
        "      pickle.dump(y, f)\n",
        "  print('time:' + str(time.time()-start) + ' seg.' )"
      ]
    },
    {
      "cell_type": "code",
      "execution_count": null,
      "metadata": {
        "id": "4ICtK4_TDE2j"
      },
      "outputs": [],
      "source": [
        "trials, class_ = db.get_data(classes=['left hand mi', 'right hand mi'])\n",
        "trials = resample(trials,int(new_fs*trials.shape[2]/fs),axis=-1)\n",
        "\n",
        "trials"
      ]
    },
    {
      "cell_type": "code",
      "execution_count": null,
      "metadata": {
        "id": "UnRL4pYgCzB_"
      },
      "outputs": [],
      "source": [
        "sliding_window(trials,int(0.5*new_fs), 0.8).shape"
      ]
    },
    {
      "cell_type": "code",
      "execution_count": null,
      "metadata": {
        "id": "5ZFOWt0MYrCS"
      },
      "outputs": [],
      "source": [
        "# 21 min por sujeto "
      ]
    },
    {
      "cell_type": "code",
      "execution_count": null,
      "metadata": {
        "id": "5GtkQkrvkp66"
      },
      "outputs": [],
      "source": [
        "Subjects = [2,32,33,38,40,44,52]\n",
        "for sub in [41]: #Subjects:#Subjects: \n",
        "  print('sujeto: ', sub)\n",
        "  #-------------------------------\n",
        "  db.load_subject(sub) \n",
        "  run, class_ = db.get_data(classes=['left hand mi', 'right hand mi'])\n",
        "  n_trials = run.shape[0]\n",
        "  #-------------------------------\n",
        "\n",
        "  start = time.time()   \n",
        "  MI_array = np.array(Parallel(n_jobs=-1)(delayed(mutual_information_perchannels)(path_save_marginal_andKernels, sub, tri) for tri in range(n_trials)) )\n",
        "  with open(path_save_marginal_andKernels+'MI_tensor_sujeto'+str(sub)+'.pickle', \"wb\") as f:\n",
        "    pickle.dump(MI_array, f)\n",
        "  print('  time: ', time.time()-start, ' seg.')\n"
      ]
    },
    {
      "cell_type": "code",
      "execution_count": null,
      "metadata": {
        "id": "41Bs3sytufW7"
      },
      "outputs": [],
      "source": [
        "with open(path_save_marginal_andKernels+'MI_tensor_sujeto'+str(sub)+'.pickle', \"wb\") as f:\n",
        "    pickle.dump(MI_array, f)"
      ]
    },
    {
      "cell_type": "code",
      "execution_count": null,
      "metadata": {
        "id": "lUD2jyikHJj0"
      },
      "outputs": [],
      "source": [
        "#ordenes de canales \n",
        "canales_p_o = ['Fp1', 'TP7', 'CP5', 'CP3', 'CP1', 'P1', 'P3', 'P5', 'P7', 'P9', 'PO7', 'PO3', 'O1', 'Oz', 'POz', 'Pz', 'CPz', 'TP8', 'CP6', 'CP4', 'CP2', 'P2', 'P4', 'P6', 'P8', 'P10', 'PO8', 'PO4', 'O2']\n",
        "ch_p_o_id = []\n",
        "for i in range(len(canales_p_o)):\n",
        "  ch_p_o_id.append(channels.index(canales_p_o[i]))\n",
        "\n",
        "canales_c = ['FC5', 'FC3', 'FC1', 'C1', 'C3', 'C5', 'CP5', 'CP3', 'CP1', 'P1', 'P3', 'P5', 'P7', 'P9', 'PO7', 'PO3', 'O1', 'Iz', 'Oz', 'POz', 'Pz', 'CPz' , 'FC6', 'FC4', 'FC2', 'FCz', 'Cz', 'C2', 'C4', 'C6',  'CP6', 'CP4', 'CP2' ]\n",
        "ch_c_id = []\n",
        "for i in range(len(canales_c)):\n",
        "  ch_c_id.append(channels.index(canales_c[i]))\n",
        "\n",
        "ch_ORDER_f = np.array([1,33,34,2,3,37,36,35,7,6,5,4,38,39,40,41,42,8,9,10,11,47,46,45,44,43,15,14,13,12,48,49,50,51,52,16,17,18,19,32,56,55,54,53,24,23,22,21,20,31,57,58,59,60,61,25,26,30,63,62,27,29,64,28])-1\n",
        "\n",
        "\n"
      ]
    },
    {
      "cell_type": "code",
      "execution_count": null,
      "metadata": {
        "id": "WH3BRdWqmZDP"
      },
      "outputs": [],
      "source": [
        "\n",
        "n_trials = 200\n",
        "#entro_sujetos= np.zeros((22 , n_trials, 19, 91)) #[sujetos, trials, canales, ventanas]\n",
        "\n",
        "for sub in [3]:#Subjects:[2,32,33,38,40,44,52]  \n",
        "  #-----------------\n",
        "  db.load_subject(sub) \n",
        "  run, class_ = db.get_data(classes=['left hand mi', 'right hand mi'])\n",
        "  n_trials = run.shape[0]\n",
        "  #----------------\n",
        "  with open(path_save_marginal_andKernels+'MI_tensor_sujeto'+str(sub)+'.pickle', \"rb\") as f:\n",
        "    MI_array = pickle.load(f) "
      ]
    },
    {
      "cell_type": "code",
      "execution_count": null,
      "metadata": {
        "id": "BNfqYAmUYNY2"
      },
      "outputs": [],
      "source": [
        "MI_array.shape"
      ]
    },
    {
      "cell_type": "code",
      "execution_count": null,
      "metadata": {
        "id": "1VdGRi2mmv2Y"
      },
      "outputs": [],
      "source": [
        "A = np.arange(0,int(1792/new_fs),1/new_fs )\n",
        "A_window = sliding_window(A,int(0.5*new_fs), 0.8)\n",
        "print(A_window.shape)\n",
        "print(np.where(A_window[:,0]==2.5390625))\n",
        "print(np.where(A_window[:,0]==4.5703125))"
      ]
    },
    {
      "cell_type": "code",
      "execution_count": null,
      "metadata": {
        "id": "ah-9vtFm9TaM"
      },
      "outputs": [],
      "source": [
        "def inertia_(X):\n",
        "   D = pairwise_distances(X, X.mean(axis=0).reshape(1,-1))\n",
        "   inertia_ = D.mean()\n",
        "   return inertia_"
      ]
    },
    {
      "cell_type": "code",
      "execution_count": null,
      "metadata": {
        "id": "L98Cl8dfu2yT"
      },
      "outputs": [],
      "source": [
        "\n",
        "n_trials = 200\n",
        "#entro_sujetos= np.zeros((22 , n_trials, 19, 91)) #[sujetos, trials, canales, ventanas]\n",
        "\n",
        "for sub in [2,23,7, 3, 14, 41]:\n",
        "  #-----------------\n",
        "  db.load_subject(sub) \n",
        "  run, class_ = db.get_data(classes=['left hand mi', 'right hand mi'])\n",
        "  n_trials = run.shape[0]\n",
        "  #----------------\n",
        "  with open(path_save_marginal_andKernels+'MI_tensor_sujeto'+str(sub)+'.pickle', \"rb\") as f:\n",
        "    MI_array = pickle.load(f)[:,:,:,25:45]\n",
        "  traials_productopunto = []\n",
        "\n",
        "  \n",
        "  traials_productopunto = []\n",
        "  for tri in range(MI_array.shape[0]):\n",
        "    #producto_punto =[]\n",
        "    producto_punto = np.zeros((MI_array.shape[1],MI_array.shape[2]))\n",
        "    for chan1 in range(MI_array.shape[1]):\n",
        "        #print('channel nº: ', chan1+1)\n",
        "        c1 = MI_array[tri,chan1,chan1,:]\n",
        "        c1_vec = []\n",
        "        for chan2 in range(chan1, MI_array.shape[1]):\n",
        "          c2 = MI_array[tri,chan1,chan2,:]\n",
        "          dot = np.dot(c1, c2)\n",
        "          producto_punto[chan1, chan2] = dot\n",
        "          producto_punto[chan2, chan1] = dot           \n",
        "        #producto_punto.append(np.mean(c1_vec))\n",
        "    traials_productopunto.append(np.mean(producto_punto, axis = 1))\n",
        "\n",
        "  print(len(traials_productopunto))\n",
        "\n",
        "  traials_productopunto_kernel = np.array(traials_productopunto)\n",
        "  plt.figure(figsize=(17,7))\n",
        "  plt.ylim([0,10])\n",
        "  iner = inertia_(traials_productopunto_kernel)\n",
        "  plt.title('Mutual Information resting state - kernel entropy sujeto '+str(sub)+ ' inertia ' + str(iner))\n",
        "  for i in range(len(traials_productopunto_kernel)):\n",
        "    #plt.plot(channels, traials_productopunto_kernel[i], label='trial '+str(i+1))\n",
        "    plt.plot(np.array(channels)[ch_ORDER_f], traials_productopunto_kernel[i,ch_ORDER_f])\n",
        "  plt.legend()\n",
        "  plt.show()"
      ]
    },
    {
      "cell_type": "code",
      "execution_count": null,
      "metadata": {
        "id": "K7xfPV7O67z5"
      },
      "outputs": [],
      "source": [
        "n_trials = 200\n",
        "#entro_sujetos= np.zeros((22 , n_trials, 19, 91)) #[sujetos, trials, canales, ventanas]\n",
        "\n",
        "for sub in [3, 14, 41]:#Subjects:[2,32,33,38,40,44,52]  \n",
        "  #-----------------\n",
        "  db.load_subject(sub) \n",
        "  run, class_ = db.get_data(classes=['left hand mi', 'right hand mi'])\n",
        "  n_trials = run.shape[0]\n",
        "  #----------------\n",
        "  with open(path_save_marginal_andKernels+'MI_tensor_sujeto'+str(sub)+'.pickle', \"rb\") as f:\n",
        "    MI_array = pickle.load(f)[:,:,:,25:45] \n",
        "  traials_productopunto = []\n",
        "\n",
        "  \n",
        "  traials_productopunto = []\n",
        "  for tri in range(MI_array.shape[0]):\n",
        "    #producto_punto =[]\n",
        "    producto_punto = np.zeros((MI_array.shape[1],MI_array.shape[2]))\n",
        "    for chan1 in range(MI_array.shape[1]):\n",
        "        #print('channel nº: ', chan1+1)\n",
        "        c1 = MI_array[tri,chan1,chan1,:]\n",
        "        c1_vec = []\n",
        "        for chan2 in range(chan1, MI_array.shape[1]):\n",
        "          c2 = MI_array[tri,chan1,chan2,:]\n",
        "          dot = np.dot(c1, c2)\n",
        "          producto_punto[chan1, chan2] = dot\n",
        "          producto_punto[chan2, chan1] = dot           \n",
        "        #producto_punto.append(np.mean(c1_vec))\n",
        "    traials_productopunto.append(np.mean(producto_punto, axis = 1))\n",
        "\n",
        "  traials_productopunto_kernel = np.array(traials_productopunto)\n",
        "  plt.figure(figsize=(17,7))\n",
        "  plt.ylim([0,10])\n",
        "  plt.title('Mutual Information resting state - kernel entropy sujeto '+str(sub))\n",
        "  for i in range(len(traials_productopunto_kernel)):\n",
        "    #plt.plot(channels, traials_productopunto_kernel[i], label='trial '+str(i+1))\n",
        "    plt.plot(np.array(channels)[ch_ORDER_f], traials_productopunto_kernel[i,ch_ORDER_f])\n",
        "  plt.legend()\n",
        "  plt.show()"
      ]
    },
    {
      "cell_type": "markdown",
      "metadata": {
        "id": "bsAk420AfbNB"
      },
      "source": [
        "## Gaussian Regressor"
      ]
    },
    {
      "cell_type": "markdown",
      "metadata": {
        "id": "X0ERPAlBJimH"
      },
      "source": [
        "### Example"
      ]
    },
    {
      "cell_type": "code",
      "execution_count": null,
      "metadata": {
        "id": "KE8oESjNDxhF"
      },
      "outputs": [],
      "source": [
        "class0 = tc1[:,:,1024:1536]\n",
        "class1 = tc2[:,:,1024:1536]\n",
        "\n",
        "print(class0.shape, class1.shape)"
      ]
    },
    {
      "cell_type": "code",
      "execution_count": null,
      "metadata": {
        "id": "6VprDxJKFuLz"
      },
      "outputs": [],
      "source": [
        "input = class0[0,52,:]\n",
        "output = class1[0,0,:]\n",
        "\n",
        "(input.shape, output.shape)"
      ]
    },
    {
      "cell_type": "code",
      "execution_count": null,
      "metadata": {
        "id": "ZTVXFsmjF6Ud"
      },
      "outputs": [],
      "source": [
        "from sklearn.gaussian_process import GaussianProcessRegressor\n",
        "from sklearn.gaussian_process.kernels import DotProduct, WhiteKernel\n",
        "\n",
        "kernel = DotProduct() + WhiteKernel()\n",
        "gpr = GaussianProcessRegressor(random_state=0).fit(input.reshape(1,-1), output.reshape(1,-1))\n",
        "gpr.score(input.reshape(1,-1), output.reshape(1,-1))"
      ]
    },
    {
      "cell_type": "code",
      "execution_count": null,
      "metadata": {
        "id": "l-YsicvkF-Ee"
      },
      "outputs": [],
      "source": [
        "prediction = gpr.predict(input.reshape(1,-1))"
      ]
    },
    {
      "cell_type": "code",
      "execution_count": null,
      "metadata": {
        "id": "GyHvBhyRHSGw"
      },
      "outputs": [],
      "source": [
        "plt.figure(figsize = (16,9))\n",
        "plt.plot(prediction.reshape(-1), label = \"Prediction\", linestyle='dashed')\n",
        "plt.plot(output, label = f\"Channel {channels[0]}\", alpha= 0.5);"
      ]
    },
    {
      "cell_type": "code",
      "execution_count": null,
      "metadata": {
        "id": "Dn88Td0sHflT"
      },
      "outputs": [],
      "source": [
        "correlation_matrix = np.corrcoef(class0[0], prediction)\n",
        "\n",
        "correlation_xy = correlation_matrix[0,1]\n",
        "\n",
        "r_squared = correlation_xy**2\n",
        "\n",
        "\n",
        "print(r_squared)"
      ]
    },
    {
      "cell_type": "markdown",
      "metadata": {
        "id": "FBDHVWmmJomn"
      },
      "source": [
        "### Every channel as input vs every channel as output"
      ]
    },
    {
      "cell_type": "code",
      "execution_count": null,
      "metadata": {
        "id": "7uktx1_5zsqq"
      },
      "outputs": [],
      "source": [
        "from sklearn.gaussian_process import GaussianProcessRegressor\n",
        "from sklearn.metrics import mean_absolute_error as mae\n",
        "from sklearn.metrics import r2_score\n",
        "import tensorflow as tf\n",
        "from tensorflow import keras"
      ]
    },
    {
      "cell_type": "markdown",
      "metadata": {
        "id": "3XeZcsKtIMrf"
      },
      "source": [
        "#### Class for calculating functional connectivity using a Gaussian Regressor."
      ]
    },
    {
      "cell_type": "code",
      "execution_count": null,
      "metadata": {
        "id": "dC7n6JkpE1SF"
      },
      "outputs": [],
      "source": [
        "class ConnectivityRegressor():\n",
        "\n",
        "  def __init__ (self, regressor, input, output):\n",
        "\n",
        "    # Constructor, receives the name of the regressor, the input data and the output.\n",
        "    self.regressor = regressor\n",
        "    self.input = input\n",
        "    self.output = output\n",
        "    self.model = keras.models.Sequential([\n",
        "    keras.layers.SimpleRNN(20, return_sequences=True, input_shape=[None, 1]),\n",
        "    keras.layers.SimpleRNN(20, return_sequences=True),\n",
        "    keras.layers.SimpleRNN(1,activation='linear')\n",
        "    ])\n",
        "    self.regressors = {\"Gaussian\": GaussianProcessRegressor,\n",
        "                       \"NN\": self.model} #Dictionary of regressors\n",
        "     \n",
        "  def MultipleChannelRegression(self): # genero una matriz \n",
        "    \n",
        "    # Regression using an input of (trials, channel, time). Where is used every trial of a single channel of one class as input and every trial of the other class used as output.\n",
        "    \n",
        "    predictions_matrix = np.zeros((self.input.shape[0], self.input.shape[2])) #Matrix to save predictions \n",
        "    r_squared_matrix = np.zeros((self.input.shape[1], self.input.shape[1])) #Matrix to save r2 of every channel\n",
        "\n",
        "    if self.regressor == \"Gaussian\":\n",
        "      for i in range(self.input.shape[1]):\n",
        "        for j in range(self.input.shape[1]):\n",
        "          self.regressor_model = self.regressors[self.regressor](random_state=0) \n",
        "          print(f\"Starting training for channel {i} {channels[i]} as input and channel {j} {channels[j]} as output...\")\n",
        "          self.regressor_model.fit(self.input[:,i,:], self.output[:,j,:])\n",
        "\n",
        "          #random_trial_prediction = np.random.randint(self.input.shape[1])\n",
        "          \n",
        "          for p in range(self.input.shape[1]):\n",
        "            if p !=0 and self.input.shape[1] % p != 0:\n",
        "              print(f\"Starting prediction for channel {channels[p]}...\")\n",
        "            prediction = self.regressor_model.predict(self.input[p,:,:])\n",
        "            predictions_matrix[p] = prediction[p]\n",
        "          \n",
        "          random_number = np.random.randint(self.input.shape[1])\n",
        "        \n",
        "          r_squared_matrix[i,j] = r2_score(self.output[random_number,i,:], predictions_matrix[random_number,:])\n",
        "\n",
        "    if self.regressor == \"NN\":\n",
        "      for i in range(self.input.shape[1]):\n",
        "        for j in range(self.input.shape[1]):\n",
        "          self.regressors[self.regressor].compile(loss=\"mse\", optimizer=\"adam\")\n",
        "          history = self.regressors[self.regressor].fit(self.input[:,i,:], output[:,j,:], epochs=50)\n",
        "          prediction = self.regressors[self.regressor].predict(self.input)\n",
        "\n",
        "          r_squared_matrix[i,j] = r2_score(self.output, prediction)\n",
        "        \n",
        "    return r_squared_matrix"
      ]
    },
    {
      "cell_type": "code",
      "execution_count": null,
      "metadata": {
        "id": "tC26suiNNyWd"
      },
      "outputs": [],
      "source": [
        "cr = ConnectivityRegressor(\"Gaussian\", class0, class1)\n",
        "rsquared = cr.MultipleChannelRegression()"
      ]
    },
    {
      "cell_type": "code",
      "execution_count": null,
      "metadata": {
        "id": "LklqaegBOoTH"
      },
      "outputs": [],
      "source": [
        "plt.figure(figsize=(16,12))\n",
        "plt.imshow(rsquared)\n",
        "plt.colorbar()\n",
        "plt.yticks(range(64), channels);\n",
        "plt.xticks(range(64), channels, rotation=\"vertical\");"
      ]
    },
    {
      "cell_type": "code",
      "execution_count": null,
      "metadata": {
        "id": "DRt5ZJUvJbCu"
      },
      "outputs": [],
      "source": [
        "def GaussianRegressorForMultipleChannels(Input, Output):\n",
        "  r_squared_matrix = np.zeros((Input.shape[0], Input.shape[0]))\n",
        "  mae_matrix = np.zeros((Input.shape[0], Input.shape[0]))\n",
        "  for i in range(Input.shape[0]):\n",
        "    for j in range(Input.shape[0]):\n",
        "    \n",
        "      gpr = GaussianProcessRegressor(random_state=0)\n",
        "      gpr.fit(Input[i].reshape(1,-1), Output[j].reshape(1,-1))\n",
        "\n",
        "      prediction = gpr.predict(Input[i].reshape(1,-1))\n",
        "\n",
        "      correlation_matrix = np.corrcoef(Input[i], prediction)\n",
        "      correlation_xy = correlation_matrix[0,1]\n",
        "\n",
        "      r_squared = correlation_xy**2\n",
        "      r_squared_matrix[i,j] = r_squared\n",
        "                \n",
        "      Mae = mae(Output[j].reshape(1,-1), prediction)\n",
        "      mae_matrix[i,j] = Mae\n",
        "\n",
        "  return r_squared_matrix, mae_matrix"
      ]
    },
    {
      "cell_type": "code",
      "execution_count": null,
      "metadata": {
        "id": "brDn1DbYNcD7"
      },
      "outputs": [],
      "source": [
        "rSquaredMatrix, maeMatrix = GaussianRegressorForMultipleChannels(class0,class1)"
      ]
    },
    {
      "cell_type": "markdown",
      "metadata": {
        "id": "FDExMU9hyFGS"
      },
      "source": [
        "### Matrix $r^2$"
      ]
    },
    {
      "cell_type": "code",
      "execution_count": null,
      "metadata": {
        "id": "8UV28d-EN37y"
      },
      "outputs": [],
      "source": [
        "plt.figure(figsize=(16,12))\n",
        "plt.imshow(rSquaredMatrix)\n",
        "plt.colorbar()\n",
        "plt.yticks(range(64), channels);\n",
        "plt.xticks(range(64), channels, rotation=\"vertical\");"
      ]
    },
    {
      "cell_type": "markdown",
      "metadata": {
        "id": "XSgPGtf_yNP2"
      },
      "source": [
        "### Correlation Matrix"
      ]
    },
    {
      "cell_type": "code",
      "execution_count": null,
      "metadata": {
        "id": "XDimGVX0OrcH"
      },
      "outputs": [],
      "source": [
        "plt.figure(figsize=(16,12))\n",
        "plt.imshow(np.abs(covMatrix[:64,64:]))\n",
        "plt.colorbar()\n",
        "plt.yticks(range(64), channels);\n",
        "plt.xticks(range(64), channels, rotation=\"vertical\");"
      ]
    },
    {
      "cell_type": "markdown",
      "metadata": {
        "id": "oDKZyNMHBn0L"
      },
      "source": [
        "## Functional connectivities"
      ]
    },
    {
      "cell_type": "code",
      "execution_count": null,
      "metadata": {
        "id": "iu7mAUoVBsQb"
      },
      "outputs": [],
      "source": [
        "FILEID = \"1fdP0ijDn1f41Ez-PQIvr4X1RXnszVQj3\"\n",
        "!wget --load-cookies /tmp/cookies.txt \"https://docs.google.com/uc?export=download&confirm=$(wget --quiet --save-cookies /tmp/cookies.txt --keep-session-cookies --no-check-certificate 'https://docs.google.com/uc?export=download&id='$FILEID -O- | sed -rn 's/.*confirm=([0-9A-Za-z_]+).*/\\1\\n/p')&id=\"$FILEID -O codigos.zip && rm -rf /tmp/cookies.txt\n",
        "!unzip codigos.zip\n",
        "!dir"
      ]
    },
    {
      "cell_type": "code",
      "execution_count": null,
      "metadata": {
        "id": "NZ96AA4oBtog"
      },
      "outputs": [],
      "source": [
        "%cd MI_EEG_ClassMeth/\n",
        "from FeatExtraction import Phase_based_Connectivities  "
      ]
    },
    {
      "cell_type": "code",
      "execution_count": null,
      "metadata": {
        "id": "Apc2vs3CEWXd"
      },
      "outputs": [],
      "source": [
        "def PLV(X):\n",
        "  PLV_M = np.zeros((X.shape[0], int(0.5*X.shape[1]*(X.shape[1]-1))))\n",
        "  for trial in range(X.shape[0]):\n",
        "    PLV_ = Phase_based_Connectivities()._phase_locking_value(X = X[trial,:,1024:1536])\n",
        "    PLV_M[trial] = PLV_\n",
        "  return PLV_M"
      ]
    },
    {
      "cell_type": "code",
      "execution_count": null,
      "metadata": {
        "id": "T-Hhv86_HqRd"
      },
      "outputs": [],
      "source": [
        "PLV = PLV(run)"
      ]
    },
    {
      "cell_type": "code",
      "execution_count": null,
      "metadata": {
        "id": "xA3xokVNHxJu"
      },
      "outputs": [],
      "source": [
        "plt.figure(figsize=(12,12))\n",
        "plt.imshow(PLV)\n",
        "plt.colorbar()"
      ]
    },
    {
      "cell_type": "code",
      "source": [
        "Save a copy in GitHub"
      ],
      "metadata": {
        "id": "NxmX4xBnewGm"
      },
      "execution_count": null,
      "outputs": []
    }
  ],
  "metadata": {
    "colab": {
      "provenance": [],
      "collapsed_sections": [
        "-wRBt5TptNBW",
        "7ybCUaefMigy",
        "vzeSfyQ6M5xJ",
        "3MSG9RNe0rl8",
        "GS8whi1AS_-N",
        "szQHjEck66Qw",
        "bsAk420AfbNB",
        "X0ERPAlBJimH",
        "FBDHVWmmJomn",
        "3XeZcsKtIMrf",
        "FDExMU9hyFGS",
        "XSgPGtf_yNP2",
        "oDKZyNMHBn0L"
      ],
      "include_colab_link": true
    },
    "kernelspec": {
      "display_name": "Python 3",
      "name": "python3"
    },
    "language_info": {
      "name": "python"
    }
  },
  "nbformat": 4,
  "nbformat_minor": 0
}